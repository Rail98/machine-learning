{
 "cells": [
  {
   "cell_type": "markdown",
   "metadata": {},
   "source": [
    "# Отток клиентов"
   ]
  },
  {
   "cell_type": "markdown",
   "metadata": {},
   "source": [
    "Из «Бета-Банка» стали уходить клиенты. Каждый месяц. Немного, но заметно. Банковские маркетологи посчитали: сохранять текущих клиентов дешевле, чем привлекать новых.\n",
    "\n",
    "Нужно спрогнозировать, уйдёт клиент из банка в ближайшее время или нет. Вам предоставлены исторические данные о поведении клиентов и расторжении договоров с банком. \n",
    "\n",
    "Построить модель с предельно большим значением *F1*-меры. Чтобы сдать проект успешно, нужно довести метрику до 0.59. Проверьте *F1*-меру на тестовой выборке самостоятельно.\n",
    "\n",
    "Дополнительно измеряйте *AUC-ROC*, сравнивайте её значение с *F1*-мерой.\n",
    "\n",
    "Источник данных: [https://www.kaggle.com/barelydedicated/bank-customer-churn-modeling](https://www.kaggle.com/barelydedicated/bank-customer-churn-modeling)"
   ]
  },
  {
   "cell_type": "markdown",
   "metadata": {},
   "source": [
    "## Подготовка данных"
   ]
  },
  {
   "cell_type": "code",
   "execution_count": 29,
   "metadata": {},
   "outputs": [],
   "source": [
    "# импортируем все необходимые библиотеки, которые могут нам пригодиться\n",
    "import pandas as pd\n",
    "import numpy as np\n",
    "import seaborn as sns\n",
    "import matplotlib.pyplot as plt\n",
    "\n",
    "from sklearn.model_selection import train_test_split\n",
    "from sklearn.preprocessing import StandardScaler\n",
    "\n",
    "from sklearn.tree import DecisionTreeClassifier\n",
    "from sklearn.ensemble import RandomForestClassifier\n",
    "from sklearn.linear_model import LogisticRegression\n",
    "\n",
    "from sklearn.metrics import accuracy_score\n",
    "from sklearn.metrics import recall_score\n",
    "from sklearn.metrics import precision_score\n",
    "from sklearn.metrics import f1_score\n",
    "from sklearn.metrics import classification_report\n",
    "\n",
    "from sklearn.utils import shuffle\n",
    "from sklearn.metrics import roc_curve\n",
    "from sklearn.metrics import roc_auc_score"
   ]
  },
  {
   "cell_type": "code",
   "execution_count": 30,
   "metadata": {},
   "outputs": [
    {
     "data": {
      "text/html": [
       "<div>\n",
       "<style scoped>\n",
       "    .dataframe tbody tr th:only-of-type {\n",
       "        vertical-align: middle;\n",
       "    }\n",
       "\n",
       "    .dataframe tbody tr th {\n",
       "        vertical-align: top;\n",
       "    }\n",
       "\n",
       "    .dataframe thead th {\n",
       "        text-align: right;\n",
       "    }\n",
       "</style>\n",
       "<table border=\"1\" class=\"dataframe\">\n",
       "  <thead>\n",
       "    <tr style=\"text-align: right;\">\n",
       "      <th></th>\n",
       "      <th>RowNumber</th>\n",
       "      <th>CustomerId</th>\n",
       "      <th>Surname</th>\n",
       "      <th>CreditScore</th>\n",
       "      <th>Geography</th>\n",
       "      <th>Gender</th>\n",
       "      <th>Age</th>\n",
       "      <th>Tenure</th>\n",
       "      <th>Balance</th>\n",
       "      <th>NumOfProducts</th>\n",
       "      <th>HasCrCard</th>\n",
       "      <th>IsActiveMember</th>\n",
       "      <th>EstimatedSalary</th>\n",
       "      <th>Exited</th>\n",
       "    </tr>\n",
       "  </thead>\n",
       "  <tbody>\n",
       "    <tr>\n",
       "      <th>0</th>\n",
       "      <td>1</td>\n",
       "      <td>15634602</td>\n",
       "      <td>Hargrave</td>\n",
       "      <td>619</td>\n",
       "      <td>France</td>\n",
       "      <td>Female</td>\n",
       "      <td>42</td>\n",
       "      <td>2.0</td>\n",
       "      <td>0.00</td>\n",
       "      <td>1</td>\n",
       "      <td>1</td>\n",
       "      <td>1</td>\n",
       "      <td>101348.88</td>\n",
       "      <td>1</td>\n",
       "    </tr>\n",
       "    <tr>\n",
       "      <th>1</th>\n",
       "      <td>2</td>\n",
       "      <td>15647311</td>\n",
       "      <td>Hill</td>\n",
       "      <td>608</td>\n",
       "      <td>Spain</td>\n",
       "      <td>Female</td>\n",
       "      <td>41</td>\n",
       "      <td>1.0</td>\n",
       "      <td>83807.86</td>\n",
       "      <td>1</td>\n",
       "      <td>0</td>\n",
       "      <td>1</td>\n",
       "      <td>112542.58</td>\n",
       "      <td>0</td>\n",
       "    </tr>\n",
       "    <tr>\n",
       "      <th>2</th>\n",
       "      <td>3</td>\n",
       "      <td>15619304</td>\n",
       "      <td>Onio</td>\n",
       "      <td>502</td>\n",
       "      <td>France</td>\n",
       "      <td>Female</td>\n",
       "      <td>42</td>\n",
       "      <td>8.0</td>\n",
       "      <td>159660.80</td>\n",
       "      <td>3</td>\n",
       "      <td>1</td>\n",
       "      <td>0</td>\n",
       "      <td>113931.57</td>\n",
       "      <td>1</td>\n",
       "    </tr>\n",
       "    <tr>\n",
       "      <th>3</th>\n",
       "      <td>4</td>\n",
       "      <td>15701354</td>\n",
       "      <td>Boni</td>\n",
       "      <td>699</td>\n",
       "      <td>France</td>\n",
       "      <td>Female</td>\n",
       "      <td>39</td>\n",
       "      <td>1.0</td>\n",
       "      <td>0.00</td>\n",
       "      <td>2</td>\n",
       "      <td>0</td>\n",
       "      <td>0</td>\n",
       "      <td>93826.63</td>\n",
       "      <td>0</td>\n",
       "    </tr>\n",
       "    <tr>\n",
       "      <th>4</th>\n",
       "      <td>5</td>\n",
       "      <td>15737888</td>\n",
       "      <td>Mitchell</td>\n",
       "      <td>850</td>\n",
       "      <td>Spain</td>\n",
       "      <td>Female</td>\n",
       "      <td>43</td>\n",
       "      <td>2.0</td>\n",
       "      <td>125510.82</td>\n",
       "      <td>1</td>\n",
       "      <td>1</td>\n",
       "      <td>1</td>\n",
       "      <td>79084.10</td>\n",
       "      <td>0</td>\n",
       "    </tr>\n",
       "  </tbody>\n",
       "</table>\n",
       "</div>"
      ],
      "text/plain": [
       "   RowNumber  CustomerId   Surname  CreditScore Geography  Gender  Age  \\\n",
       "0          1    15634602  Hargrave          619    France  Female   42   \n",
       "1          2    15647311      Hill          608     Spain  Female   41   \n",
       "2          3    15619304      Onio          502    France  Female   42   \n",
       "3          4    15701354      Boni          699    France  Female   39   \n",
       "4          5    15737888  Mitchell          850     Spain  Female   43   \n",
       "\n",
       "   Tenure    Balance  NumOfProducts  HasCrCard  IsActiveMember  \\\n",
       "0     2.0       0.00              1          1               1   \n",
       "1     1.0   83807.86              1          0               1   \n",
       "2     8.0  159660.80              3          1               0   \n",
       "3     1.0       0.00              2          0               0   \n",
       "4     2.0  125510.82              1          1               1   \n",
       "\n",
       "   EstimatedSalary  Exited  \n",
       "0        101348.88       1  \n",
       "1        112542.58       0  \n",
       "2        113931.57       1  \n",
       "3         93826.63       0  \n",
       "4         79084.10       0  "
      ]
     },
     "execution_count": 30,
     "metadata": {},
     "output_type": "execute_result"
    }
   ],
   "source": [
    "# сохраним наш датасет в переменную df и выведим первые пять строк\n",
    "df = pd.read_csv('/datasets/Churn.csv')\n",
    "df.head()"
   ]
  },
  {
   "cell_type": "code",
   "execution_count": 31,
   "metadata": {
    "scrolled": true
   },
   "outputs": [
    {
     "name": "stdout",
     "output_type": "stream",
     "text": [
      "<class 'pandas.core.frame.DataFrame'>\n",
      "RangeIndex: 10000 entries, 0 to 9999\n",
      "Data columns (total 14 columns):\n",
      " #   Column           Non-Null Count  Dtype  \n",
      "---  ------           --------------  -----  \n",
      " 0   RowNumber        10000 non-null  int64  \n",
      " 1   CustomerId       10000 non-null  int64  \n",
      " 2   Surname          10000 non-null  object \n",
      " 3   CreditScore      10000 non-null  int64  \n",
      " 4   Geography        10000 non-null  object \n",
      " 5   Gender           10000 non-null  object \n",
      " 6   Age              10000 non-null  int64  \n",
      " 7   Tenure           9091 non-null   float64\n",
      " 8   Balance          10000 non-null  float64\n",
      " 9   NumOfProducts    10000 non-null  int64  \n",
      " 10  HasCrCard        10000 non-null  int64  \n",
      " 11  IsActiveMember   10000 non-null  int64  \n",
      " 12  EstimatedSalary  10000 non-null  float64\n",
      " 13  Exited           10000 non-null  int64  \n",
      "dtypes: float64(3), int64(8), object(3)\n",
      "memory usage: 1.1+ MB\n"
     ]
    }
   ],
   "source": [
    "# покажем общую информацию о нашей таблице\n",
    "df.info()"
   ]
  },
  {
   "cell_type": "code",
   "execution_count": 32,
   "metadata": {},
   "outputs": [
    {
     "data": {
      "text/plain": [
       "Index(['RowNumber', 'CustomerId', 'Surname', 'CreditScore', 'Geography',\n",
       "       'Gender', 'Age', 'Tenure', 'Balance', 'NumOfProducts', 'HasCrCard',\n",
       "       'IsActiveMember', 'EstimatedSalary', 'Exited'],\n",
       "      dtype='object')"
      ]
     },
     "execution_count": 32,
     "metadata": {},
     "output_type": "execute_result"
    }
   ],
   "source": [
    "df.columns"
   ]
  },
  {
   "cell_type": "markdown",
   "metadata": {},
   "source": [
    "<b>Описание данных</b>\n",
    "\n",
    "Признаки:\n",
    "\n",
    "- RowNumber — индекс строки в данных\n",
    "- CustomerId — уникальный идентификатор клиента\n",
    "- Surname — фамилия\n",
    "- CreditScore — кредитный рейтинг\n",
    "- Geography — страна проживания\n",
    "- Gender — пол\n",
    "- Age — возраст\n",
    "- Tenure — сколько лет человек является клиентом банка\n",
    "- Balance — баланс на счёте\n",
    "- NumOfProducts — количество продуктов банка, используемых клиентом\n",
    "- HasCrCard — наличие кредитной карты\n",
    "- IsActiveMember — активность клиента\n",
    "- EstimatedSalary — предполагаемая зарплата\n",
    "- Целевой признак\n",
    "- Exited — факт ухода клиента\n",
    "\n",
    "Целевой признак:\n",
    "\n",
    "- Exited — факт ухода клиента\n",
    "    "
   ]
  },
  {
   "cell_type": "code",
   "execution_count": 33,
   "metadata": {},
   "outputs": [],
   "source": [
    "df = df[~df['Tenure'].isna()].reset_index(drop=True)"
   ]
  },
  {
   "cell_type": "code",
   "execution_count": 6,
   "metadata": {},
   "outputs": [
    {
     "name": "stdout",
     "output_type": "stream",
     "text": [
      "<class 'pandas.core.frame.DataFrame'>\n",
      "RangeIndex: 9091 entries, 0 to 9090\n",
      "Data columns (total 14 columns):\n",
      " #   Column           Non-Null Count  Dtype  \n",
      "---  ------           --------------  -----  \n",
      " 0   RowNumber        9091 non-null   int64  \n",
      " 1   CustomerId       9091 non-null   int64  \n",
      " 2   Surname          9091 non-null   object \n",
      " 3   CreditScore      9091 non-null   int64  \n",
      " 4   Geography        9091 non-null   object \n",
      " 5   Gender           9091 non-null   object \n",
      " 6   Age              9091 non-null   int64  \n",
      " 7   Tenure           9091 non-null   float64\n",
      " 8   Balance          9091 non-null   float64\n",
      " 9   NumOfProducts    9091 non-null   int64  \n",
      " 10  HasCrCard        9091 non-null   int64  \n",
      " 11  IsActiveMember   9091 non-null   int64  \n",
      " 12  EstimatedSalary  9091 non-null   float64\n",
      " 13  Exited           9091 non-null   int64  \n",
      "dtypes: float64(3), int64(8), object(3)\n",
      "memory usage: 994.5+ KB\n"
     ]
    }
   ],
   "source": [
    "df.info()"
   ]
  },
  {
   "cell_type": "markdown",
   "metadata": {},
   "source": [
    "Изучим корреляции в данных. Так мы можем оценить взаимосвязи в данных и влияние параметров на целевой признак. Для этого воспользуемся методом `sns.pairplot` с параметром `hue`, в который мы передадим целевой признак. Заодно построим корреляционную матрицу и тепловую карту."
   ]
  },
  {
   "cell_type": "code",
   "execution_count": 7,
   "metadata": {
    "scrolled": true
   },
   "outputs": [],
   "source": [
    "#sns.pairplot(df)"
   ]
  },
  {
   "cell_type": "code",
   "execution_count": 8,
   "metadata": {},
   "outputs": [
    {
     "data": {
      "text/html": [
       "<div>\n",
       "<style scoped>\n",
       "    .dataframe tbody tr th:only-of-type {\n",
       "        vertical-align: middle;\n",
       "    }\n",
       "\n",
       "    .dataframe tbody tr th {\n",
       "        vertical-align: top;\n",
       "    }\n",
       "\n",
       "    .dataframe thead th {\n",
       "        text-align: right;\n",
       "    }\n",
       "</style>\n",
       "<table border=\"1\" class=\"dataframe\">\n",
       "  <thead>\n",
       "    <tr style=\"text-align: right;\">\n",
       "      <th></th>\n",
       "      <th>RowNumber</th>\n",
       "      <th>CustomerId</th>\n",
       "      <th>CreditScore</th>\n",
       "      <th>Age</th>\n",
       "      <th>Tenure</th>\n",
       "      <th>Balance</th>\n",
       "      <th>NumOfProducts</th>\n",
       "      <th>HasCrCard</th>\n",
       "      <th>IsActiveMember</th>\n",
       "      <th>EstimatedSalary</th>\n",
       "      <th>Exited</th>\n",
       "    </tr>\n",
       "  </thead>\n",
       "  <tbody>\n",
       "    <tr>\n",
       "      <th>RowNumber</th>\n",
       "      <td>1.000000</td>\n",
       "      <td>0.004289</td>\n",
       "      <td>0.002330</td>\n",
       "      <td>0.000681</td>\n",
       "      <td>-0.007322</td>\n",
       "      <td>-0.005921</td>\n",
       "      <td>0.009078</td>\n",
       "      <td>0.001248</td>\n",
       "      <td>0.009536</td>\n",
       "      <td>-0.004854</td>\n",
       "      <td>-0.014562</td>\n",
       "    </tr>\n",
       "    <tr>\n",
       "      <th>CustomerId</th>\n",
       "      <td>0.004289</td>\n",
       "      <td>1.000000</td>\n",
       "      <td>-0.001610</td>\n",
       "      <td>0.010379</td>\n",
       "      <td>-0.021418</td>\n",
       "      <td>-0.007445</td>\n",
       "      <td>0.014604</td>\n",
       "      <td>-0.019891</td>\n",
       "      <td>0.001499</td>\n",
       "      <td>0.010029</td>\n",
       "      <td>-0.007040</td>\n",
       "    </tr>\n",
       "    <tr>\n",
       "      <th>CreditScore</th>\n",
       "      <td>0.002330</td>\n",
       "      <td>-0.001610</td>\n",
       "      <td>1.000000</td>\n",
       "      <td>-0.004504</td>\n",
       "      <td>-0.000062</td>\n",
       "      <td>0.002804</td>\n",
       "      <td>0.011090</td>\n",
       "      <td>-0.003937</td>\n",
       "      <td>0.030947</td>\n",
       "      <td>0.005182</td>\n",
       "      <td>-0.023950</td>\n",
       "    </tr>\n",
       "    <tr>\n",
       "      <th>Age</th>\n",
       "      <td>0.000681</td>\n",
       "      <td>0.010379</td>\n",
       "      <td>-0.004504</td>\n",
       "      <td>1.000000</td>\n",
       "      <td>-0.013134</td>\n",
       "      <td>0.031481</td>\n",
       "      <td>-0.031877</td>\n",
       "      <td>-0.014129</td>\n",
       "      <td>0.082269</td>\n",
       "      <td>-0.007037</td>\n",
       "      <td>0.283017</td>\n",
       "    </tr>\n",
       "    <tr>\n",
       "      <th>Tenure</th>\n",
       "      <td>-0.007322</td>\n",
       "      <td>-0.021418</td>\n",
       "      <td>-0.000062</td>\n",
       "      <td>-0.013134</td>\n",
       "      <td>1.000000</td>\n",
       "      <td>-0.007911</td>\n",
       "      <td>0.011979</td>\n",
       "      <td>0.027232</td>\n",
       "      <td>-0.032178</td>\n",
       "      <td>0.010520</td>\n",
       "      <td>-0.016761</td>\n",
       "    </tr>\n",
       "    <tr>\n",
       "      <th>Balance</th>\n",
       "      <td>-0.005921</td>\n",
       "      <td>-0.007445</td>\n",
       "      <td>0.002804</td>\n",
       "      <td>0.031481</td>\n",
       "      <td>-0.007911</td>\n",
       "      <td>1.000000</td>\n",
       "      <td>-0.301858</td>\n",
       "      <td>-0.019055</td>\n",
       "      <td>-0.003285</td>\n",
       "      <td>0.014351</td>\n",
       "      <td>0.117218</td>\n",
       "    </tr>\n",
       "    <tr>\n",
       "      <th>NumOfProducts</th>\n",
       "      <td>0.009078</td>\n",
       "      <td>0.014604</td>\n",
       "      <td>0.011090</td>\n",
       "      <td>-0.031877</td>\n",
       "      <td>0.011979</td>\n",
       "      <td>-0.301858</td>\n",
       "      <td>1.000000</td>\n",
       "      <td>0.005805</td>\n",
       "      <td>0.009084</td>\n",
       "      <td>0.013990</td>\n",
       "      <td>-0.050271</td>\n",
       "    </tr>\n",
       "    <tr>\n",
       "      <th>HasCrCard</th>\n",
       "      <td>0.001248</td>\n",
       "      <td>-0.019891</td>\n",
       "      <td>-0.003937</td>\n",
       "      <td>-0.014129</td>\n",
       "      <td>0.027232</td>\n",
       "      <td>-0.019055</td>\n",
       "      <td>0.005805</td>\n",
       "      <td>1.000000</td>\n",
       "      <td>-0.008810</td>\n",
       "      <td>-0.006136</td>\n",
       "      <td>-0.005411</td>\n",
       "    </tr>\n",
       "    <tr>\n",
       "      <th>IsActiveMember</th>\n",
       "      <td>0.009536</td>\n",
       "      <td>0.001499</td>\n",
       "      <td>0.030947</td>\n",
       "      <td>0.082269</td>\n",
       "      <td>-0.032178</td>\n",
       "      <td>-0.003285</td>\n",
       "      <td>0.009084</td>\n",
       "      <td>-0.008810</td>\n",
       "      <td>1.000000</td>\n",
       "      <td>-0.020049</td>\n",
       "      <td>-0.155062</td>\n",
       "    </tr>\n",
       "    <tr>\n",
       "      <th>EstimatedSalary</th>\n",
       "      <td>-0.004854</td>\n",
       "      <td>0.010029</td>\n",
       "      <td>0.005182</td>\n",
       "      <td>-0.007037</td>\n",
       "      <td>0.010520</td>\n",
       "      <td>0.014351</td>\n",
       "      <td>0.013990</td>\n",
       "      <td>-0.006136</td>\n",
       "      <td>-0.020049</td>\n",
       "      <td>1.000000</td>\n",
       "      <td>0.016029</td>\n",
       "    </tr>\n",
       "    <tr>\n",
       "      <th>Exited</th>\n",
       "      <td>-0.014562</td>\n",
       "      <td>-0.007040</td>\n",
       "      <td>-0.023950</td>\n",
       "      <td>0.283017</td>\n",
       "      <td>-0.016761</td>\n",
       "      <td>0.117218</td>\n",
       "      <td>-0.050271</td>\n",
       "      <td>-0.005411</td>\n",
       "      <td>-0.155062</td>\n",
       "      <td>0.016029</td>\n",
       "      <td>1.000000</td>\n",
       "    </tr>\n",
       "  </tbody>\n",
       "</table>\n",
       "</div>"
      ],
      "text/plain": [
       "                 RowNumber  CustomerId  CreditScore       Age    Tenure  \\\n",
       "RowNumber         1.000000    0.004289     0.002330  0.000681 -0.007322   \n",
       "CustomerId        0.004289    1.000000    -0.001610  0.010379 -0.021418   \n",
       "CreditScore       0.002330   -0.001610     1.000000 -0.004504 -0.000062   \n",
       "Age               0.000681    0.010379    -0.004504  1.000000 -0.013134   \n",
       "Tenure           -0.007322   -0.021418    -0.000062 -0.013134  1.000000   \n",
       "Balance          -0.005921   -0.007445     0.002804  0.031481 -0.007911   \n",
       "NumOfProducts     0.009078    0.014604     0.011090 -0.031877  0.011979   \n",
       "HasCrCard         0.001248   -0.019891    -0.003937 -0.014129  0.027232   \n",
       "IsActiveMember    0.009536    0.001499     0.030947  0.082269 -0.032178   \n",
       "EstimatedSalary  -0.004854    0.010029     0.005182 -0.007037  0.010520   \n",
       "Exited           -0.014562   -0.007040    -0.023950  0.283017 -0.016761   \n",
       "\n",
       "                  Balance  NumOfProducts  HasCrCard  IsActiveMember  \\\n",
       "RowNumber       -0.005921       0.009078   0.001248        0.009536   \n",
       "CustomerId      -0.007445       0.014604  -0.019891        0.001499   \n",
       "CreditScore      0.002804       0.011090  -0.003937        0.030947   \n",
       "Age              0.031481      -0.031877  -0.014129        0.082269   \n",
       "Tenure          -0.007911       0.011979   0.027232       -0.032178   \n",
       "Balance          1.000000      -0.301858  -0.019055       -0.003285   \n",
       "NumOfProducts   -0.301858       1.000000   0.005805        0.009084   \n",
       "HasCrCard       -0.019055       0.005805   1.000000       -0.008810   \n",
       "IsActiveMember  -0.003285       0.009084  -0.008810        1.000000   \n",
       "EstimatedSalary  0.014351       0.013990  -0.006136       -0.020049   \n",
       "Exited           0.117218      -0.050271  -0.005411       -0.155062   \n",
       "\n",
       "                 EstimatedSalary    Exited  \n",
       "RowNumber              -0.004854 -0.014562  \n",
       "CustomerId              0.010029 -0.007040  \n",
       "CreditScore             0.005182 -0.023950  \n",
       "Age                    -0.007037  0.283017  \n",
       "Tenure                  0.010520 -0.016761  \n",
       "Balance                 0.014351  0.117218  \n",
       "NumOfProducts           0.013990 -0.050271  \n",
       "HasCrCard              -0.006136 -0.005411  \n",
       "IsActiveMember         -0.020049 -0.155062  \n",
       "EstimatedSalary         1.000000  0.016029  \n",
       "Exited                  0.016029  1.000000  "
      ]
     },
     "execution_count": 8,
     "metadata": {},
     "output_type": "execute_result"
    }
   ],
   "source": [
    "corrMatrix = df.corr()\n",
    "corrMatrix"
   ]
  },
  {
   "cell_type": "code",
   "execution_count": 9,
   "metadata": {
    "scrolled": true
   },
   "outputs": [],
   "source": [
    "#sns.heatmap(corrMatrix)"
   ]
  },
  {
   "cell_type": "markdown",
   "metadata": {},
   "source": [
    "По графикам и тепловой карте можно сделать вывод, что параметрыне завимости друг от друга. \n",
    "(можно же сделать такой вывод?:))"
   ]
  },
  {
   "cell_type": "markdown",
   "metadata": {},
   "source": [
    "## Исследование задачи"
   ]
  },
  {
   "cell_type": "markdown",
   "metadata": {},
   "source": [
    "Исследуем баланс классов. Обучим модель без учета дисбаланса. В качестве примера воспользуемся моделью логистической регресии.\n",
    "\n",
    "Чтобы наша модель работала правильно, в обучающем наборе данных должно содержаться одинаковое количество положительных и отрицательных ответов. "
   ]
  },
  {
   "cell_type": "code",
   "execution_count": 10,
   "metadata": {
    "scrolled": true
   },
   "outputs": [
    {
     "data": {
      "text/plain": [
       "0    0.796062\n",
       "1    0.203938\n",
       "Name: Exited, dtype: float64"
      ]
     },
     "execution_count": 10,
     "metadata": {},
     "output_type": "execute_result"
    }
   ],
   "source": [
    "# покажем долю положительного и отрицательного ответа к общему числу данных\n",
    "df['Exited'].value_counts(normalize=True)"
   ]
  },
  {
   "cell_type": "code",
   "execution_count": 11,
   "metadata": {},
   "outputs": [
    {
     "data": {
      "text/html": [
       "<div>\n",
       "<style scoped>\n",
       "    .dataframe tbody tr th:only-of-type {\n",
       "        vertical-align: middle;\n",
       "    }\n",
       "\n",
       "    .dataframe tbody tr th {\n",
       "        vertical-align: top;\n",
       "    }\n",
       "\n",
       "    .dataframe thead th {\n",
       "        text-align: right;\n",
       "    }\n",
       "</style>\n",
       "<table border=\"1\" class=\"dataframe\">\n",
       "  <thead>\n",
       "    <tr style=\"text-align: right;\">\n",
       "      <th></th>\n",
       "      <th>RowNumber</th>\n",
       "      <th>CustomerId</th>\n",
       "      <th>Surname</th>\n",
       "      <th>CreditScore</th>\n",
       "      <th>Geography</th>\n",
       "      <th>Gender</th>\n",
       "      <th>Age</th>\n",
       "      <th>Tenure</th>\n",
       "      <th>Balance</th>\n",
       "      <th>NumOfProducts</th>\n",
       "      <th>HasCrCard</th>\n",
       "      <th>IsActiveMember</th>\n",
       "      <th>EstimatedSalary</th>\n",
       "      <th>Exited</th>\n",
       "    </tr>\n",
       "  </thead>\n",
       "  <tbody>\n",
       "    <tr>\n",
       "      <th>0</th>\n",
       "      <td>1</td>\n",
       "      <td>15634602</td>\n",
       "      <td>Hargrave</td>\n",
       "      <td>619</td>\n",
       "      <td>France</td>\n",
       "      <td>Female</td>\n",
       "      <td>42</td>\n",
       "      <td>2.0</td>\n",
       "      <td>0.00</td>\n",
       "      <td>1</td>\n",
       "      <td>1</td>\n",
       "      <td>1</td>\n",
       "      <td>101348.88</td>\n",
       "      <td>1</td>\n",
       "    </tr>\n",
       "    <tr>\n",
       "      <th>1</th>\n",
       "      <td>2</td>\n",
       "      <td>15647311</td>\n",
       "      <td>Hill</td>\n",
       "      <td>608</td>\n",
       "      <td>Spain</td>\n",
       "      <td>Female</td>\n",
       "      <td>41</td>\n",
       "      <td>1.0</td>\n",
       "      <td>83807.86</td>\n",
       "      <td>1</td>\n",
       "      <td>0</td>\n",
       "      <td>1</td>\n",
       "      <td>112542.58</td>\n",
       "      <td>0</td>\n",
       "    </tr>\n",
       "    <tr>\n",
       "      <th>2</th>\n",
       "      <td>3</td>\n",
       "      <td>15619304</td>\n",
       "      <td>Onio</td>\n",
       "      <td>502</td>\n",
       "      <td>France</td>\n",
       "      <td>Female</td>\n",
       "      <td>42</td>\n",
       "      <td>8.0</td>\n",
       "      <td>159660.80</td>\n",
       "      <td>3</td>\n",
       "      <td>1</td>\n",
       "      <td>0</td>\n",
       "      <td>113931.57</td>\n",
       "      <td>1</td>\n",
       "    </tr>\n",
       "    <tr>\n",
       "      <th>3</th>\n",
       "      <td>4</td>\n",
       "      <td>15701354</td>\n",
       "      <td>Boni</td>\n",
       "      <td>699</td>\n",
       "      <td>France</td>\n",
       "      <td>Female</td>\n",
       "      <td>39</td>\n",
       "      <td>1.0</td>\n",
       "      <td>0.00</td>\n",
       "      <td>2</td>\n",
       "      <td>0</td>\n",
       "      <td>0</td>\n",
       "      <td>93826.63</td>\n",
       "      <td>0</td>\n",
       "    </tr>\n",
       "    <tr>\n",
       "      <th>4</th>\n",
       "      <td>5</td>\n",
       "      <td>15737888</td>\n",
       "      <td>Mitchell</td>\n",
       "      <td>850</td>\n",
       "      <td>Spain</td>\n",
       "      <td>Female</td>\n",
       "      <td>43</td>\n",
       "      <td>2.0</td>\n",
       "      <td>125510.82</td>\n",
       "      <td>1</td>\n",
       "      <td>1</td>\n",
       "      <td>1</td>\n",
       "      <td>79084.10</td>\n",
       "      <td>0</td>\n",
       "    </tr>\n",
       "    <tr>\n",
       "      <th>...</th>\n",
       "      <td>...</td>\n",
       "      <td>...</td>\n",
       "      <td>...</td>\n",
       "      <td>...</td>\n",
       "      <td>...</td>\n",
       "      <td>...</td>\n",
       "      <td>...</td>\n",
       "      <td>...</td>\n",
       "      <td>...</td>\n",
       "      <td>...</td>\n",
       "      <td>...</td>\n",
       "      <td>...</td>\n",
       "      <td>...</td>\n",
       "      <td>...</td>\n",
       "    </tr>\n",
       "    <tr>\n",
       "      <th>9086</th>\n",
       "      <td>9995</td>\n",
       "      <td>15719294</td>\n",
       "      <td>Wood</td>\n",
       "      <td>800</td>\n",
       "      <td>France</td>\n",
       "      <td>Female</td>\n",
       "      <td>29</td>\n",
       "      <td>2.0</td>\n",
       "      <td>0.00</td>\n",
       "      <td>2</td>\n",
       "      <td>0</td>\n",
       "      <td>0</td>\n",
       "      <td>167773.55</td>\n",
       "      <td>0</td>\n",
       "    </tr>\n",
       "    <tr>\n",
       "      <th>9087</th>\n",
       "      <td>9996</td>\n",
       "      <td>15606229</td>\n",
       "      <td>Obijiaku</td>\n",
       "      <td>771</td>\n",
       "      <td>France</td>\n",
       "      <td>Male</td>\n",
       "      <td>39</td>\n",
       "      <td>5.0</td>\n",
       "      <td>0.00</td>\n",
       "      <td>2</td>\n",
       "      <td>1</td>\n",
       "      <td>0</td>\n",
       "      <td>96270.64</td>\n",
       "      <td>0</td>\n",
       "    </tr>\n",
       "    <tr>\n",
       "      <th>9088</th>\n",
       "      <td>9997</td>\n",
       "      <td>15569892</td>\n",
       "      <td>Johnstone</td>\n",
       "      <td>516</td>\n",
       "      <td>France</td>\n",
       "      <td>Male</td>\n",
       "      <td>35</td>\n",
       "      <td>10.0</td>\n",
       "      <td>57369.61</td>\n",
       "      <td>1</td>\n",
       "      <td>1</td>\n",
       "      <td>1</td>\n",
       "      <td>101699.77</td>\n",
       "      <td>0</td>\n",
       "    </tr>\n",
       "    <tr>\n",
       "      <th>9089</th>\n",
       "      <td>9998</td>\n",
       "      <td>15584532</td>\n",
       "      <td>Liu</td>\n",
       "      <td>709</td>\n",
       "      <td>France</td>\n",
       "      <td>Female</td>\n",
       "      <td>36</td>\n",
       "      <td>7.0</td>\n",
       "      <td>0.00</td>\n",
       "      <td>1</td>\n",
       "      <td>0</td>\n",
       "      <td>1</td>\n",
       "      <td>42085.58</td>\n",
       "      <td>1</td>\n",
       "    </tr>\n",
       "    <tr>\n",
       "      <th>9090</th>\n",
       "      <td>9999</td>\n",
       "      <td>15682355</td>\n",
       "      <td>Sabbatini</td>\n",
       "      <td>772</td>\n",
       "      <td>Germany</td>\n",
       "      <td>Male</td>\n",
       "      <td>42</td>\n",
       "      <td>3.0</td>\n",
       "      <td>75075.31</td>\n",
       "      <td>2</td>\n",
       "      <td>1</td>\n",
       "      <td>0</td>\n",
       "      <td>92888.52</td>\n",
       "      <td>1</td>\n",
       "    </tr>\n",
       "  </tbody>\n",
       "</table>\n",
       "<p>9091 rows × 14 columns</p>\n",
       "</div>"
      ],
      "text/plain": [
       "      RowNumber  CustomerId    Surname  CreditScore Geography  Gender  Age  \\\n",
       "0             1    15634602   Hargrave          619    France  Female   42   \n",
       "1             2    15647311       Hill          608     Spain  Female   41   \n",
       "2             3    15619304       Onio          502    France  Female   42   \n",
       "3             4    15701354       Boni          699    France  Female   39   \n",
       "4             5    15737888   Mitchell          850     Spain  Female   43   \n",
       "...         ...         ...        ...          ...       ...     ...  ...   \n",
       "9086       9995    15719294       Wood          800    France  Female   29   \n",
       "9087       9996    15606229   Obijiaku          771    France    Male   39   \n",
       "9088       9997    15569892  Johnstone          516    France    Male   35   \n",
       "9089       9998    15584532        Liu          709    France  Female   36   \n",
       "9090       9999    15682355  Sabbatini          772   Germany    Male   42   \n",
       "\n",
       "      Tenure    Balance  NumOfProducts  HasCrCard  IsActiveMember  \\\n",
       "0        2.0       0.00              1          1               1   \n",
       "1        1.0   83807.86              1          0               1   \n",
       "2        8.0  159660.80              3          1               0   \n",
       "3        1.0       0.00              2          0               0   \n",
       "4        2.0  125510.82              1          1               1   \n",
       "...      ...        ...            ...        ...             ...   \n",
       "9086     2.0       0.00              2          0               0   \n",
       "9087     5.0       0.00              2          1               0   \n",
       "9088    10.0   57369.61              1          1               1   \n",
       "9089     7.0       0.00              1          0               1   \n",
       "9090     3.0   75075.31              2          1               0   \n",
       "\n",
       "      EstimatedSalary  Exited  \n",
       "0           101348.88       1  \n",
       "1           112542.58       0  \n",
       "2           113931.57       1  \n",
       "3            93826.63       0  \n",
       "4            79084.10       0  \n",
       "...               ...     ...  \n",
       "9086        167773.55       0  \n",
       "9087         96270.64       0  \n",
       "9088        101699.77       0  \n",
       "9089         42085.58       1  \n",
       "9090         92888.52       1  \n",
       "\n",
       "[9091 rows x 14 columns]"
      ]
     },
     "execution_count": 11,
     "metadata": {},
     "output_type": "execute_result"
    }
   ],
   "source": [
    "df"
   ]
  },
  {
   "cell_type": "code",
   "execution_count": 34,
   "metadata": {},
   "outputs": [],
   "source": [
    "df = df.drop(columns=['RowNumber', 'CustomerId', 'Surname'])"
   ]
  },
  {
   "cell_type": "code",
   "execution_count": 37,
   "metadata": {
    "scrolled": true
   },
   "outputs": [
    {
     "data": {
      "text/html": [
       "<div>\n",
       "<style scoped>\n",
       "    .dataframe tbody tr th:only-of-type {\n",
       "        vertical-align: middle;\n",
       "    }\n",
       "\n",
       "    .dataframe tbody tr th {\n",
       "        vertical-align: top;\n",
       "    }\n",
       "\n",
       "    .dataframe thead th {\n",
       "        text-align: right;\n",
       "    }\n",
       "</style>\n",
       "<table border=\"1\" class=\"dataframe\">\n",
       "  <thead>\n",
       "    <tr style=\"text-align: right;\">\n",
       "      <th></th>\n",
       "      <th>CreditScore</th>\n",
       "      <th>Age</th>\n",
       "      <th>Tenure</th>\n",
       "      <th>Balance</th>\n",
       "      <th>NumOfProducts</th>\n",
       "      <th>HasCrCard</th>\n",
       "      <th>IsActiveMember</th>\n",
       "      <th>EstimatedSalary</th>\n",
       "      <th>Exited</th>\n",
       "      <th>Geography_Germany</th>\n",
       "      <th>Geography_Spain</th>\n",
       "      <th>Gender_Male</th>\n",
       "    </tr>\n",
       "  </thead>\n",
       "  <tbody>\n",
       "    <tr>\n",
       "      <th>0</th>\n",
       "      <td>619</td>\n",
       "      <td>42</td>\n",
       "      <td>2.0</td>\n",
       "      <td>0.00</td>\n",
       "      <td>1</td>\n",
       "      <td>1</td>\n",
       "      <td>1</td>\n",
       "      <td>101348.88</td>\n",
       "      <td>1</td>\n",
       "      <td>0</td>\n",
       "      <td>0</td>\n",
       "      <td>0</td>\n",
       "    </tr>\n",
       "    <tr>\n",
       "      <th>1</th>\n",
       "      <td>608</td>\n",
       "      <td>41</td>\n",
       "      <td>1.0</td>\n",
       "      <td>83807.86</td>\n",
       "      <td>1</td>\n",
       "      <td>0</td>\n",
       "      <td>1</td>\n",
       "      <td>112542.58</td>\n",
       "      <td>0</td>\n",
       "      <td>0</td>\n",
       "      <td>1</td>\n",
       "      <td>0</td>\n",
       "    </tr>\n",
       "    <tr>\n",
       "      <th>2</th>\n",
       "      <td>502</td>\n",
       "      <td>42</td>\n",
       "      <td>8.0</td>\n",
       "      <td>159660.80</td>\n",
       "      <td>3</td>\n",
       "      <td>1</td>\n",
       "      <td>0</td>\n",
       "      <td>113931.57</td>\n",
       "      <td>1</td>\n",
       "      <td>0</td>\n",
       "      <td>0</td>\n",
       "      <td>0</td>\n",
       "    </tr>\n",
       "    <tr>\n",
       "      <th>3</th>\n",
       "      <td>699</td>\n",
       "      <td>39</td>\n",
       "      <td>1.0</td>\n",
       "      <td>0.00</td>\n",
       "      <td>2</td>\n",
       "      <td>0</td>\n",
       "      <td>0</td>\n",
       "      <td>93826.63</td>\n",
       "      <td>0</td>\n",
       "      <td>0</td>\n",
       "      <td>0</td>\n",
       "      <td>0</td>\n",
       "    </tr>\n",
       "    <tr>\n",
       "      <th>4</th>\n",
       "      <td>850</td>\n",
       "      <td>43</td>\n",
       "      <td>2.0</td>\n",
       "      <td>125510.82</td>\n",
       "      <td>1</td>\n",
       "      <td>1</td>\n",
       "      <td>1</td>\n",
       "      <td>79084.10</td>\n",
       "      <td>0</td>\n",
       "      <td>0</td>\n",
       "      <td>1</td>\n",
       "      <td>0</td>\n",
       "    </tr>\n",
       "    <tr>\n",
       "      <th>...</th>\n",
       "      <td>...</td>\n",
       "      <td>...</td>\n",
       "      <td>...</td>\n",
       "      <td>...</td>\n",
       "      <td>...</td>\n",
       "      <td>...</td>\n",
       "      <td>...</td>\n",
       "      <td>...</td>\n",
       "      <td>...</td>\n",
       "      <td>...</td>\n",
       "      <td>...</td>\n",
       "      <td>...</td>\n",
       "    </tr>\n",
       "    <tr>\n",
       "      <th>9086</th>\n",
       "      <td>800</td>\n",
       "      <td>29</td>\n",
       "      <td>2.0</td>\n",
       "      <td>0.00</td>\n",
       "      <td>2</td>\n",
       "      <td>0</td>\n",
       "      <td>0</td>\n",
       "      <td>167773.55</td>\n",
       "      <td>0</td>\n",
       "      <td>0</td>\n",
       "      <td>0</td>\n",
       "      <td>0</td>\n",
       "    </tr>\n",
       "    <tr>\n",
       "      <th>9087</th>\n",
       "      <td>771</td>\n",
       "      <td>39</td>\n",
       "      <td>5.0</td>\n",
       "      <td>0.00</td>\n",
       "      <td>2</td>\n",
       "      <td>1</td>\n",
       "      <td>0</td>\n",
       "      <td>96270.64</td>\n",
       "      <td>0</td>\n",
       "      <td>0</td>\n",
       "      <td>0</td>\n",
       "      <td>1</td>\n",
       "    </tr>\n",
       "    <tr>\n",
       "      <th>9088</th>\n",
       "      <td>516</td>\n",
       "      <td>35</td>\n",
       "      <td>10.0</td>\n",
       "      <td>57369.61</td>\n",
       "      <td>1</td>\n",
       "      <td>1</td>\n",
       "      <td>1</td>\n",
       "      <td>101699.77</td>\n",
       "      <td>0</td>\n",
       "      <td>0</td>\n",
       "      <td>0</td>\n",
       "      <td>1</td>\n",
       "    </tr>\n",
       "    <tr>\n",
       "      <th>9089</th>\n",
       "      <td>709</td>\n",
       "      <td>36</td>\n",
       "      <td>7.0</td>\n",
       "      <td>0.00</td>\n",
       "      <td>1</td>\n",
       "      <td>0</td>\n",
       "      <td>1</td>\n",
       "      <td>42085.58</td>\n",
       "      <td>1</td>\n",
       "      <td>0</td>\n",
       "      <td>0</td>\n",
       "      <td>0</td>\n",
       "    </tr>\n",
       "    <tr>\n",
       "      <th>9090</th>\n",
       "      <td>772</td>\n",
       "      <td>42</td>\n",
       "      <td>3.0</td>\n",
       "      <td>75075.31</td>\n",
       "      <td>2</td>\n",
       "      <td>1</td>\n",
       "      <td>0</td>\n",
       "      <td>92888.52</td>\n",
       "      <td>1</td>\n",
       "      <td>1</td>\n",
       "      <td>0</td>\n",
       "      <td>1</td>\n",
       "    </tr>\n",
       "  </tbody>\n",
       "</table>\n",
       "<p>9091 rows × 12 columns</p>\n",
       "</div>"
      ],
      "text/plain": [
       "      CreditScore  Age  Tenure    Balance  NumOfProducts  HasCrCard  \\\n",
       "0             619   42     2.0       0.00              1          1   \n",
       "1             608   41     1.0   83807.86              1          0   \n",
       "2             502   42     8.0  159660.80              3          1   \n",
       "3             699   39     1.0       0.00              2          0   \n",
       "4             850   43     2.0  125510.82              1          1   \n",
       "...           ...  ...     ...        ...            ...        ...   \n",
       "9086          800   29     2.0       0.00              2          0   \n",
       "9087          771   39     5.0       0.00              2          1   \n",
       "9088          516   35    10.0   57369.61              1          1   \n",
       "9089          709   36     7.0       0.00              1          0   \n",
       "9090          772   42     3.0   75075.31              2          1   \n",
       "\n",
       "      IsActiveMember  EstimatedSalary  Exited  Geography_Germany  \\\n",
       "0                  1        101348.88       1                  0   \n",
       "1                  1        112542.58       0                  0   \n",
       "2                  0        113931.57       1                  0   \n",
       "3                  0         93826.63       0                  0   \n",
       "4                  1         79084.10       0                  0   \n",
       "...              ...              ...     ...                ...   \n",
       "9086               0        167773.55       0                  0   \n",
       "9087               0         96270.64       0                  0   \n",
       "9088               1        101699.77       0                  0   \n",
       "9089               1         42085.58       1                  0   \n",
       "9090               0         92888.52       1                  1   \n",
       "\n",
       "      Geography_Spain  Gender_Male  \n",
       "0                   0            0  \n",
       "1                   1            0  \n",
       "2                   0            0  \n",
       "3                   0            0  \n",
       "4                   1            0  \n",
       "...               ...          ...  \n",
       "9086                0            0  \n",
       "9087                0            1  \n",
       "9088                0            1  \n",
       "9089                0            0  \n",
       "9090                0            1  \n",
       "\n",
       "[9091 rows x 12 columns]"
      ]
     },
     "execution_count": 37,
     "metadata": {},
     "output_type": "execute_result"
    }
   ],
   "source": [
    "df"
   ]
  },
  {
   "cell_type": "code",
   "execution_count": 36,
   "metadata": {},
   "outputs": [],
   "source": [
    "# прежде чем построить модель, необходимо преобразовать категориальные данные, разделить их на обучающую и тестовую выборку, а также привести к общему масштабу\n",
    "df = pd.get_dummies(df, drop_first=True)"
   ]
  },
  {
   "cell_type": "markdown",
   "metadata": {},
   "source": [
    "Разделим исходные данные на обучающую, валидационную и тестовую выборки по соотношении 3:1:1 (60%:20%:20%). Для этого воспользуемся функцией `train_test_split` из модуля `sklearn.model_selection`.\n",
    "\n",
    "Функция `train_test_split()` возвращает только два новых набора данных — обучающий и валидационный (или тестовый). А нам нужно поделить наши данные на три части, поэтому поступим cледующим образом.\n",
    "Сначала воспользуемся функцией `train_test_split()`, чтобы извлечь обучающую (df_train) и временную выборки (df_temp), а затем временную выборку поделим на две равные части, в которых будут храниться валидационная (df_valid) и тестовая выборка (df_test)."
   ]
  },
  {
   "cell_type": "code",
   "execution_count": 14,
   "metadata": {},
   "outputs": [],
   "source": [
    "#df_train, df_temp = train_test_split(df, test_size=0.4, random_state=23)"
   ]
  },
  {
   "cell_type": "code",
   "execution_count": 15,
   "metadata": {},
   "outputs": [],
   "source": [
    "#df_valid = df_temp.iloc[0:int(len(df_temp)/2)]\n",
    "#df_test = df_temp.iloc[int(len(df_temp)/2):]"
   ]
  },
  {
   "cell_type": "code",
   "execution_count": 16,
   "metadata": {},
   "outputs": [
    {
     "name": "stdout",
     "output_type": "stream",
     "text": [
      "Количество строк в y_train по классам: [4316 1138]\n",
      "Количество строк в y_test по классам: [2921  716]\n"
     ]
    }
   ],
   "source": [
    "# как было раньше\n",
    "df_train, df_temp = train_test_split(df, test_size=0.4, random_state=23)\n",
    "print(f\"Количество строк в y_train по классам: {np.bincount(df_train['Exited'])}\")\n",
    "print(f\"Количество строк в y_test по классам: {np.bincount(df_temp['Exited'])}\")"
   ]
  },
  {
   "cell_type": "code",
   "execution_count": 17,
   "metadata": {},
   "outputs": [
    {
     "name": "stdout",
     "output_type": "stream",
     "text": [
      "Количество строк в y_train по классам: [4342 1112]\n",
      "Количество строк в y_test по классам: [2895  742]\n"
     ]
    }
   ],
   "source": [
    "# как будет сейчас\n",
    "df_train, df_temp = train_test_split(df, test_size=0.4, random_state=23, stratify=df['Exited'])\n",
    "print(f\"Количество строк в y_train по классам: {np.bincount(df_train['Exited'])}\")\n",
    "print(f\"Количество строк в y_test по классам: {np.bincount(df_temp['Exited'])}\")"
   ]
  },
  {
   "cell_type": "code",
   "execution_count": 18,
   "metadata": {},
   "outputs": [
    {
     "name": "stdout",
     "output_type": "stream",
     "text": [
      "Количество строк в y_train по классам: [1447  371]\n",
      "Количество строк в y_test по классам: [1448  371]\n"
     ]
    }
   ],
   "source": [
    "df_valid, df_test = train_test_split(df_temp, test_size=0.5, random_state=23, stratify=df_temp['Exited'])\n",
    "print(f\"Количество строк в y_train по классам: {np.bincount(df_valid['Exited'])}\")\n",
    "print(f\"Количество строк в y_test по классам: {np.bincount(df_test['Exited'])}\")"
   ]
  },
  {
   "cell_type": "code",
   "execution_count": 19,
   "metadata": {},
   "outputs": [
    {
     "name": "stdout",
     "output_type": "stream",
     "text": [
      "Количество объектов у таблицы df_train: 5454 (0.6)\n",
      "Количество объектов у таблицы df_temp: 3637 (0.4)\n",
      "Количество объектов у таблицы df_valid: 1818 (0.2)\n",
      "Количество объектов у таблицы df_test: 1819 (0.2)\n"
     ]
    }
   ],
   "source": [
    "# покажем сколько объектов имеют выборочные датасеты\n",
    "# в скобках покажем процентное соотношение к общему количеству объектов (таблица df)\n",
    "print(f'Количество объектов у таблицы df_train: {len(df_train)} ({round(len(df_train)/len(df), 2)})')\n",
    "print(f'Количество объектов у таблицы df_temp: {len(df_temp)} ({round(len(df_temp)/len(df), 2)})')\n",
    "print(f'Количество объектов у таблицы df_valid: {len(df_valid)} ({round(len(df_valid)/len(df), 2)})')\n",
    "print(f'Количество объектов у таблицы df_test: {len(df_test)} ({round(len(df_test)/len(df), 2)})')"
   ]
  },
  {
   "cell_type": "code",
   "execution_count": 20,
   "metadata": {},
   "outputs": [],
   "source": [
    "features_train = df_train.drop(columns='Exited')\n",
    "target_train = df_train['Exited']\n",
    "features_valid = df_valid.drop(columns='Exited')\n",
    "target_valid = df_valid['Exited']\n",
    "features_test = df_test.drop(columns='Exited')\n",
    "target_test = df_test['Exited']"
   ]
  },
  {
   "cell_type": "code",
   "execution_count": 21,
   "metadata": {},
   "outputs": [],
   "source": [
    "scaler = StandardScaler()\n",
    "scaler.fit(features_train)\n",
    "features_train = pd.DataFrame(scaler.transform(features_train), index=features_train.index, columns=features_train.columns)\n",
    "features_valid = pd.DataFrame(scaler.transform(features_valid), index=features_valid.index, columns=features_valid.columns)\n",
    "features_test = pd.DataFrame(scaler.transform(features_test), index=features_test.index, columns=features_test.columns)"
   ]
  },
  {
   "cell_type": "code",
   "execution_count": 24,
   "metadata": {},
   "outputs": [
    {
     "data": {
      "text/html": [
       "<div>\n",
       "<style scoped>\n",
       "    .dataframe tbody tr th:only-of-type {\n",
       "        vertical-align: middle;\n",
       "    }\n",
       "\n",
       "    .dataframe tbody tr th {\n",
       "        vertical-align: top;\n",
       "    }\n",
       "\n",
       "    .dataframe thead th {\n",
       "        text-align: right;\n",
       "    }\n",
       "</style>\n",
       "<table border=\"1\" class=\"dataframe\">\n",
       "  <thead>\n",
       "    <tr style=\"text-align: right;\">\n",
       "      <th></th>\n",
       "      <th>CreditScore</th>\n",
       "      <th>Age</th>\n",
       "      <th>Tenure</th>\n",
       "      <th>Balance</th>\n",
       "      <th>NumOfProducts</th>\n",
       "      <th>HasCrCard</th>\n",
       "      <th>IsActiveMember</th>\n",
       "      <th>EstimatedSalary</th>\n",
       "      <th>Exited</th>\n",
       "      <th>Geography_Germany</th>\n",
       "      <th>Geography_Spain</th>\n",
       "      <th>Gender_Male</th>\n",
       "    </tr>\n",
       "  </thead>\n",
       "  <tbody>\n",
       "    <tr>\n",
       "      <th>5735</th>\n",
       "      <td>575</td>\n",
       "      <td>27</td>\n",
       "      <td>3.0</td>\n",
       "      <td>139301.68</td>\n",
       "      <td>1</td>\n",
       "      <td>1</td>\n",
       "      <td>0</td>\n",
       "      <td>99843.98</td>\n",
       "      <td>0</td>\n",
       "      <td>0</td>\n",
       "      <td>0</td>\n",
       "      <td>1</td>\n",
       "    </tr>\n",
       "    <tr>\n",
       "      <th>5405</th>\n",
       "      <td>798</td>\n",
       "      <td>38</td>\n",
       "      <td>4.0</td>\n",
       "      <td>129055.13</td>\n",
       "      <td>1</td>\n",
       "      <td>1</td>\n",
       "      <td>0</td>\n",
       "      <td>157147.59</td>\n",
       "      <td>0</td>\n",
       "      <td>1</td>\n",
       "      <td>0</td>\n",
       "      <td>0</td>\n",
       "    </tr>\n",
       "    <tr>\n",
       "      <th>1234</th>\n",
       "      <td>625</td>\n",
       "      <td>26</td>\n",
       "      <td>3.0</td>\n",
       "      <td>130483.95</td>\n",
       "      <td>1</td>\n",
       "      <td>1</td>\n",
       "      <td>0</td>\n",
       "      <td>122810.53</td>\n",
       "      <td>0</td>\n",
       "      <td>1</td>\n",
       "      <td>0</td>\n",
       "      <td>1</td>\n",
       "    </tr>\n",
       "    <tr>\n",
       "      <th>4587</th>\n",
       "      <td>832</td>\n",
       "      <td>27</td>\n",
       "      <td>10.0</td>\n",
       "      <td>98590.25</td>\n",
       "      <td>1</td>\n",
       "      <td>1</td>\n",
       "      <td>0</td>\n",
       "      <td>30912.89</td>\n",
       "      <td>0</td>\n",
       "      <td>0</td>\n",
       "      <td>0</td>\n",
       "      <td>0</td>\n",
       "    </tr>\n",
       "    <tr>\n",
       "      <th>5198</th>\n",
       "      <td>488</td>\n",
       "      <td>43</td>\n",
       "      <td>10.0</td>\n",
       "      <td>112751.13</td>\n",
       "      <td>1</td>\n",
       "      <td>1</td>\n",
       "      <td>1</td>\n",
       "      <td>28332.00</td>\n",
       "      <td>0</td>\n",
       "      <td>0</td>\n",
       "      <td>0</td>\n",
       "      <td>1</td>\n",
       "    </tr>\n",
       "    <tr>\n",
       "      <th>...</th>\n",
       "      <td>...</td>\n",
       "      <td>...</td>\n",
       "      <td>...</td>\n",
       "      <td>...</td>\n",
       "      <td>...</td>\n",
       "      <td>...</td>\n",
       "      <td>...</td>\n",
       "      <td>...</td>\n",
       "      <td>...</td>\n",
       "      <td>...</td>\n",
       "      <td>...</td>\n",
       "      <td>...</td>\n",
       "    </tr>\n",
       "    <tr>\n",
       "      <th>3889</th>\n",
       "      <td>700</td>\n",
       "      <td>28</td>\n",
       "      <td>3.0</td>\n",
       "      <td>99705.69</td>\n",
       "      <td>2</td>\n",
       "      <td>0</td>\n",
       "      <td>0</td>\n",
       "      <td>146723.72</td>\n",
       "      <td>0</td>\n",
       "      <td>1</td>\n",
       "      <td>0</td>\n",
       "      <td>0</td>\n",
       "    </tr>\n",
       "    <tr>\n",
       "      <th>539</th>\n",
       "      <td>687</td>\n",
       "      <td>72</td>\n",
       "      <td>9.0</td>\n",
       "      <td>0.00</td>\n",
       "      <td>1</td>\n",
       "      <td>0</td>\n",
       "      <td>1</td>\n",
       "      <td>69829.40</td>\n",
       "      <td>0</td>\n",
       "      <td>0</td>\n",
       "      <td>0</td>\n",
       "      <td>0</td>\n",
       "    </tr>\n",
       "    <tr>\n",
       "      <th>3816</th>\n",
       "      <td>648</td>\n",
       "      <td>36</td>\n",
       "      <td>8.0</td>\n",
       "      <td>146943.38</td>\n",
       "      <td>2</td>\n",
       "      <td>1</td>\n",
       "      <td>1</td>\n",
       "      <td>130041.45</td>\n",
       "      <td>0</td>\n",
       "      <td>0</td>\n",
       "      <td>1</td>\n",
       "      <td>1</td>\n",
       "    </tr>\n",
       "    <tr>\n",
       "      <th>7436</th>\n",
       "      <td>722</td>\n",
       "      <td>40</td>\n",
       "      <td>6.0</td>\n",
       "      <td>89175.06</td>\n",
       "      <td>2</td>\n",
       "      <td>0</td>\n",
       "      <td>1</td>\n",
       "      <td>152883.95</td>\n",
       "      <td>0</td>\n",
       "      <td>1</td>\n",
       "      <td>0</td>\n",
       "      <td>0</td>\n",
       "    </tr>\n",
       "    <tr>\n",
       "      <th>1735</th>\n",
       "      <td>658</td>\n",
       "      <td>35</td>\n",
       "      <td>5.0</td>\n",
       "      <td>126397.66</td>\n",
       "      <td>1</td>\n",
       "      <td>0</td>\n",
       "      <td>0</td>\n",
       "      <td>156361.58</td>\n",
       "      <td>1</td>\n",
       "      <td>0</td>\n",
       "      <td>0</td>\n",
       "      <td>0</td>\n",
       "    </tr>\n",
       "  </tbody>\n",
       "</table>\n",
       "<p>5454 rows × 12 columns</p>\n",
       "</div>"
      ],
      "text/plain": [
       "      CreditScore  Age  Tenure    Balance  NumOfProducts  HasCrCard  \\\n",
       "5735          575   27     3.0  139301.68              1          1   \n",
       "5405          798   38     4.0  129055.13              1          1   \n",
       "1234          625   26     3.0  130483.95              1          1   \n",
       "4587          832   27    10.0   98590.25              1          1   \n",
       "5198          488   43    10.0  112751.13              1          1   \n",
       "...           ...  ...     ...        ...            ...        ...   \n",
       "3889          700   28     3.0   99705.69              2          0   \n",
       "539           687   72     9.0       0.00              1          0   \n",
       "3816          648   36     8.0  146943.38              2          1   \n",
       "7436          722   40     6.0   89175.06              2          0   \n",
       "1735          658   35     5.0  126397.66              1          0   \n",
       "\n",
       "      IsActiveMember  EstimatedSalary  Exited  Geography_Germany  \\\n",
       "5735               0         99843.98       0                  0   \n",
       "5405               0        157147.59       0                  1   \n",
       "1234               0        122810.53       0                  1   \n",
       "4587               0         30912.89       0                  0   \n",
       "5198               1         28332.00       0                  0   \n",
       "...              ...              ...     ...                ...   \n",
       "3889               0        146723.72       0                  1   \n",
       "539                1         69829.40       0                  0   \n",
       "3816               1        130041.45       0                  0   \n",
       "7436               1        152883.95       0                  1   \n",
       "1735               0        156361.58       1                  0   \n",
       "\n",
       "      Geography_Spain  Gender_Male  \n",
       "5735                0            1  \n",
       "5405                0            0  \n",
       "1234                0            1  \n",
       "4587                0            0  \n",
       "5198                0            1  \n",
       "...               ...          ...  \n",
       "3889                0            0  \n",
       "539                 0            0  \n",
       "3816                1            1  \n",
       "7436                0            0  \n",
       "1735                0            0  \n",
       "\n",
       "[5454 rows x 12 columns]"
      ]
     },
     "execution_count": 24,
     "metadata": {},
     "output_type": "execute_result"
    }
   ],
   "source": [
    "df_train"
   ]
  },
  {
   "cell_type": "code",
   "execution_count": 23,
   "metadata": {
    "scrolled": true
   },
   "outputs": [
    {
     "name": "stdout",
     "output_type": "stream",
     "text": [
      "F1: 0.3132530120481927\n"
     ]
    }
   ],
   "source": [
    "# создадим модель без учета дисбаланса\n",
    "model = LogisticRegression(random_state=12345, solver='liblinear')\n",
    "model.fit(features_train, target_train)\n",
    "predicted_valid = model.predict(features_valid)\n",
    "print(\"F1:\", f1_score(target_valid, predicted_valid))"
   ]
  },
  {
   "cell_type": "code",
   "execution_count": 46,
   "metadata": {},
   "outputs": [
    {
     "data": {
      "text/html": [
       "<div>\n",
       "<style scoped>\n",
       "    .dataframe tbody tr th:only-of-type {\n",
       "        vertical-align: middle;\n",
       "    }\n",
       "\n",
       "    .dataframe tbody tr th {\n",
       "        vertical-align: top;\n",
       "    }\n",
       "\n",
       "    .dataframe thead th {\n",
       "        text-align: right;\n",
       "    }\n",
       "</style>\n",
       "<table border=\"1\" class=\"dataframe\">\n",
       "  <thead>\n",
       "    <tr style=\"text-align: right;\">\n",
       "      <th></th>\n",
       "      <th>precision</th>\n",
       "      <th>recall</th>\n",
       "      <th>f1-score</th>\n",
       "      <th>support</th>\n",
       "    </tr>\n",
       "  </thead>\n",
       "  <tbody>\n",
       "    <tr>\n",
       "      <th>0</th>\n",
       "      <td>0.826730</td>\n",
       "      <td>0.966137</td>\n",
       "      <td>0.891013</td>\n",
       "      <td>1447.000000</td>\n",
       "    </tr>\n",
       "    <tr>\n",
       "      <th>1</th>\n",
       "      <td>0.614173</td>\n",
       "      <td>0.210243</td>\n",
       "      <td>0.313253</td>\n",
       "      <td>371.000000</td>\n",
       "    </tr>\n",
       "    <tr>\n",
       "      <th>accuracy</th>\n",
       "      <td>0.811881</td>\n",
       "      <td>0.811881</td>\n",
       "      <td>0.811881</td>\n",
       "      <td>0.811881</td>\n",
       "    </tr>\n",
       "    <tr>\n",
       "      <th>macro avg</th>\n",
       "      <td>0.720451</td>\n",
       "      <td>0.588190</td>\n",
       "      <td>0.602133</td>\n",
       "      <td>1818.000000</td>\n",
       "    </tr>\n",
       "    <tr>\n",
       "      <th>weighted avg</th>\n",
       "      <td>0.783353</td>\n",
       "      <td>0.811881</td>\n",
       "      <td>0.773110</td>\n",
       "      <td>1818.000000</td>\n",
       "    </tr>\n",
       "  </tbody>\n",
       "</table>\n",
       "</div>"
      ],
      "text/plain": [
       "              precision    recall  f1-score      support\n",
       "0              0.826730  0.966137  0.891013  1447.000000\n",
       "1              0.614173  0.210243  0.313253   371.000000\n",
       "accuracy       0.811881  0.811881  0.811881     0.811881\n",
       "macro avg      0.720451  0.588190  0.602133  1818.000000\n",
       "weighted avg   0.783353  0.811881  0.773110  1818.000000"
      ]
     },
     "execution_count": 46,
     "metadata": {},
     "output_type": "execute_result"
    }
   ],
   "source": [
    "# используем метод classification_report для отображения точности, полноты и f1-метрики\n",
    "pd.DataFrame(classification_report(target_valid, predicted_valid, output_dict=True)).transpose()"
   ]
  },
  {
   "cell_type": "markdown",
   "metadata": {},
   "source": [
    "Из всех предоставленных объектов 20 процентов больше не являются клиентами банков. Дисбаланс данных составляет 20% на 80% (1:4). F1-мера меньше допустимого. Чтобы увеличить качество нашей модели, попробуем избавиться от дисбаланса."
   ]
  },
  {
   "cell_type": "markdown",
   "metadata": {},
   "source": [
    "## Борьба с дисбалансом"
   ]
  },
  {
   "cell_type": "markdown",
   "metadata": {},
   "source": [
    "### Взвешивание классов"
   ]
  },
  {
   "cell_type": "markdown",
   "metadata": {},
   "source": [
    "По умолчанию модель присваивает всем объектам равные веса. Так как наш датасет является несбалансированным, то записям с целевым признаком 1 увеличим веса. Для этого воспользуемся атрибутом `class_weight` в нашей модели."
   ]
  },
  {
   "cell_type": "code",
   "execution_count": 47,
   "metadata": {},
   "outputs": [
    {
     "name": "stdout",
     "output_type": "stream",
     "text": [
      "F1: 0.49562682215743453\n"
     ]
    }
   ],
   "source": [
    "model = LogisticRegression(random_state=12345, solver='liblinear', class_weight='balanced')\n",
    "model.fit(features_train, target_train)\n",
    "predicted_valid = model.predict(features_valid)\n",
    "print(\"F1:\", f1_score(target_valid, predicted_valid))"
   ]
  },
  {
   "cell_type": "code",
   "execution_count": 48,
   "metadata": {},
   "outputs": [
    {
     "data": {
      "text/html": [
       "<div>\n",
       "<style scoped>\n",
       "    .dataframe tbody tr th:only-of-type {\n",
       "        vertical-align: middle;\n",
       "    }\n",
       "\n",
       "    .dataframe tbody tr th {\n",
       "        vertical-align: top;\n",
       "    }\n",
       "\n",
       "    .dataframe thead th {\n",
       "        text-align: right;\n",
       "    }\n",
       "</style>\n",
       "<table border=\"1\" class=\"dataframe\">\n",
       "  <thead>\n",
       "    <tr style=\"text-align: right;\">\n",
       "      <th></th>\n",
       "      <th>precision</th>\n",
       "      <th>recall</th>\n",
       "      <th>f1-score</th>\n",
       "      <th>support</th>\n",
       "    </tr>\n",
       "  </thead>\n",
       "  <tbody>\n",
       "    <tr>\n",
       "      <th>0</th>\n",
       "      <td>0.900000</td>\n",
       "      <td>0.721493</td>\n",
       "      <td>0.800921</td>\n",
       "      <td>1447.000000</td>\n",
       "    </tr>\n",
       "    <tr>\n",
       "      <th>1</th>\n",
       "      <td>0.387538</td>\n",
       "      <td>0.687332</td>\n",
       "      <td>0.495627</td>\n",
       "      <td>371.000000</td>\n",
       "    </tr>\n",
       "    <tr>\n",
       "      <th>accuracy</th>\n",
       "      <td>0.714521</td>\n",
       "      <td>0.714521</td>\n",
       "      <td>0.714521</td>\n",
       "      <td>0.714521</td>\n",
       "    </tr>\n",
       "    <tr>\n",
       "      <th>macro avg</th>\n",
       "      <td>0.643769</td>\n",
       "      <td>0.704412</td>\n",
       "      <td>0.648274</td>\n",
       "      <td>1818.000000</td>\n",
       "    </tr>\n",
       "    <tr>\n",
       "      <th>weighted avg</th>\n",
       "      <td>0.795422</td>\n",
       "      <td>0.714521</td>\n",
       "      <td>0.738619</td>\n",
       "      <td>1818.000000</td>\n",
       "    </tr>\n",
       "  </tbody>\n",
       "</table>\n",
       "</div>"
      ],
      "text/plain": [
       "              precision    recall  f1-score      support\n",
       "0              0.900000  0.721493  0.800921  1447.000000\n",
       "1              0.387538  0.687332  0.495627   371.000000\n",
       "accuracy       0.714521  0.714521  0.714521     0.714521\n",
       "macro avg      0.643769  0.704412  0.648274  1818.000000\n",
       "weighted avg   0.795422  0.714521  0.738619  1818.000000"
      ]
     },
     "execution_count": 48,
     "metadata": {},
     "output_type": "execute_result"
    }
   ],
   "source": [
    "pd.DataFrame(classification_report(target_valid, predicted_valid, output_dict=True)).transpose()"
   ]
  },
  {
   "cell_type": "markdown",
   "metadata": {},
   "source": [
    "Качество модели улучшилось, но все еще имеет невысокую точность. Применим другие методы для увеличения качества нашей модели."
   ]
  },
  {
   "cell_type": "markdown",
   "metadata": {},
   "source": [
    "### Увеличение выборки"
   ]
  },
  {
   "cell_type": "markdown",
   "metadata": {},
   "source": [
    "Создадим функцию upsample, которая будет увеличивать (с помощью дублирование) и перемеивать  записи с редкими целевыми признаками. "
   ]
  },
  {
   "cell_type": "code",
   "execution_count": 49,
   "metadata": {},
   "outputs": [],
   "source": [
    "#features_train, features_valid, target_train, target_valid = train_test_split(\n",
    "#                              features, target, test_size=0.25, random_state=12345)"
   ]
  },
  {
   "cell_type": "code",
   "execution_count": 50,
   "metadata": {},
   "outputs": [],
   "source": [
    "def upsample(features, target, repeat):\n",
    "    features_zeros = features[target == 0]\n",
    "    features_ones = features[target == 1]\n",
    "    target_zeros = target[target == 0]\n",
    "    target_ones = target[target == 1]\n",
    "\n",
    "    features_upsampled = pd.concat([features_zeros] + [features_ones] * repeat)\n",
    "    target_upsampled = pd.concat([target_zeros] + [target_ones] * repeat)\n",
    "    \n",
    "    features_upsampled, target_upsampled = shuffle(\n",
    "        features_upsampled, target_upsampled, random_state=12345)\n",
    "    \n",
    "    return features_upsampled, target_upsampled\n"
   ]
  },
  {
   "cell_type": "code",
   "execution_count": 51,
   "metadata": {},
   "outputs": [
    {
     "name": "stdout",
     "output_type": "stream",
     "text": [
      "1    0.50603\n",
      "0    0.49397\n",
      "Name: Exited, dtype: float64\n"
     ]
    }
   ],
   "source": [
    "features_upsampled, target_upsampled = upsample(features_train, target_train, 4)\n",
    "print(target_upsampled.value_counts(normalize=True))"
   ]
  },
  {
   "cell_type": "code",
   "execution_count": 52,
   "metadata": {},
   "outputs": [
    {
     "name": "stdout",
     "output_type": "stream",
     "text": [
      "F1: 0.4956772334293948\n"
     ]
    }
   ],
   "source": [
    "model = LogisticRegression(random_state=12345, solver='liblinear')\n",
    "model.fit(features_upsampled, target_upsampled)\n",
    "predicted_valid = model.predict(features_valid)\n",
    "print(\"F1:\", f1_score(target_valid, predicted_valid))"
   ]
  },
  {
   "cell_type": "markdown",
   "metadata": {},
   "source": [
    "Получили качетсво ниже, чем при сбалансированной выборке. Попробуем заодно сравнить с уменьшением выборки."
   ]
  },
  {
   "cell_type": "markdown",
   "metadata": {},
   "source": [
    "### Уменьшение выборки"
   ]
  },
  {
   "cell_type": "code",
   "execution_count": 53,
   "metadata": {},
   "outputs": [],
   "source": [
    "def downsample(features, target, fraction):\n",
    "    features_zeros = features[target == 0]\n",
    "    features_ones = features[target == 1]\n",
    "    target_zeros = target[target == 0]\n",
    "    target_ones = target[target == 1]\n",
    "\n",
    "    features_downsampled = pd.concat(\n",
    "        [features_zeros.sample(frac=fraction, random_state=12345)] + [features_ones])\n",
    "    target_downsampled = pd.concat(\n",
    "        [target_zeros.sample(frac=fraction, random_state=12345)] + [target_ones])\n",
    "    \n",
    "    features_downsampled, target_downsampled = shuffle(\n",
    "        features_downsampled, target_downsampled, random_state=12345)\n",
    "    \n",
    "    return features_downsampled, target_downsampled\n"
   ]
  },
  {
   "cell_type": "code",
   "execution_count": 54,
   "metadata": {},
   "outputs": [],
   "source": [
    "features_downsampled, target_downsampled = downsample(features_train, target_train, 0.25)"
   ]
  },
  {
   "cell_type": "code",
   "execution_count": 55,
   "metadata": {},
   "outputs": [
    {
     "name": "stdout",
     "output_type": "stream",
     "text": [
      "F1: 0.4966824644549764\n"
     ]
    }
   ],
   "source": [
    "model = LogisticRegression(random_state=12345, solver='liblinear')\n",
    "model.fit(features_downsampled, target_downsampled)\n",
    "predicted_valid = model.predict(features_valid)\n",
    "print(\"F1:\", f1_score(target_valid, predicted_valid))"
   ]
  },
  {
   "cell_type": "markdown",
   "metadata": {},
   "source": [
    "Результат также показывает ниже 0.5"
   ]
  },
  {
   "cell_type": "markdown",
   "metadata": {},
   "source": [
    "### Изменение порога"
   ]
  },
  {
   "cell_type": "code",
   "execution_count": 57,
   "metadata": {},
   "outputs": [
    {
     "name": "stdout",
     "output_type": "stream",
     "text": [
      "Порог = 0.00 | Точность = 0.204, Полнота = 1.000, f1-мера = 0.339\n",
      "Порог = 0.02 | Точность = 0.204, Полнота = 0.992, f1-мера = 0.338\n",
      "Порог = 0.04 | Точность = 0.216, Полнота = 0.981, f1-мера = 0.354\n",
      "Порог = 0.06 | Точность = 0.234, Полнота = 0.962, f1-мера = 0.376\n",
      "Порог = 0.08 | Точность = 0.256, Полнота = 0.925, f1-мера = 0.401\n",
      "Порог = 0.10 | Точность = 0.275, Полнота = 0.884, f1-мера = 0.420\n",
      "Порог = 0.12 | Точность = 0.296, Полнота = 0.863, f1-мера = 0.441\n",
      "Порог = 0.14 | Точность = 0.312, Полнота = 0.822, f1-мера = 0.453\n",
      "Порог = 0.16 | Точность = 0.336, Полнота = 0.790, f1-мера = 0.471\n",
      "Порог = 0.18 | Точность = 0.349, Полнота = 0.744, f1-мера = 0.475\n",
      "Порог = 0.20 | Точность = 0.380, Полнота = 0.701, f1-мера = 0.493\n",
      "Порог = 0.22 | Точность = 0.397, Полнота = 0.650, f1-мера = 0.493\n",
      "Порог = 0.24 | Точность = 0.416, Полнота = 0.612, f1-мера = 0.495\n",
      "Порог = 0.26 | Точность = 0.425, Полнота = 0.577, f1-мера = 0.490\n",
      "Порог = 0.28 | Точность = 0.434, Полнота = 0.526, f1-мера = 0.476\n"
     ]
    }
   ],
   "source": [
    "model = LogisticRegression(random_state=12345, solver='liblinear')\n",
    "model.fit(features_train, target_train)\n",
    "probabilities_valid = model.predict_proba(features_valid)\n",
    "probabilities_one_valid = probabilities_valid[:, 1]\n",
    "\n",
    "for threshold in np.arange(0, 0.3, 0.02):\n",
    "    predicted_valid = probabilities_one_valid > threshold\n",
    "    precision = precision_score(target_valid, predicted_valid) \n",
    "    recall = recall_score(target_valid, predicted_valid) \n",
    "    f1 = f1_score(target_valid, predicted_valid) \n",
    "    print(\"Порог = {:.2f} | Точность = {:.3f}, Полнота = {:.3f}, f1-мера = {:.3f}\".format(\n",
    "        threshold, precision, recall, f1))"
   ]
  },
  {
   "cell_type": "markdown",
   "metadata": {},
   "source": [
    "Наилучшую точность мы получим при пороге 0.12 (f1 = 0.36)."
   ]
  },
  {
   "cell_type": "markdown",
   "metadata": {},
   "source": [
    "## Тестирование модели"
   ]
  },
  {
   "cell_type": "markdown",
   "metadata": {},
   "source": [
    "Теперь постараемся подобрать модель, которая имела бы более точное предсказание. Для этого нам поможет модель случайного леса. С помощью цикла for найдем глубину модели и количество деревьев. Также нужно указать, что мы используем сбалансированную выборку."
   ]
  },
  {
   "cell_type": "code",
   "execution_count": 58,
   "metadata": {
    "scrolled": true
   },
   "outputs": [
    {
     "name": "stdout",
     "output_type": "stream",
     "text": [
      "f1_score = 0.9325591782045557\n",
      "f1_score = 0.5993975903614458\n",
      "depth = 12 and n_estimators = 180\n",
      "---------------\n",
      "f1_score = 0.93125\n",
      "f1_score = 0.6015037593984962\n",
      "depth = 12 and n_estimators = 190\n",
      "---------------\n",
      "f1_score = 0.9659803043867503\n",
      "f1_score = 0.5886075949367089\n",
      "depth = 13 and n_estimators = 180\n",
      "---------------\n",
      "f1_score = 0.9659498207885305\n",
      "f1_score = 0.5889763779527559\n",
      "depth = 13 and n_estimators = 190\n",
      "---------------\n",
      "f1_score = 0.9874776386404293\n",
      "f1_score = 0.5671641791044776\n",
      "depth = 14 and n_estimators = 180\n",
      "---------------\n",
      "f1_score = 0.9874888293118856\n",
      "f1_score = 0.5676567656765676\n",
      "depth = 14 and n_estimators = 190\n",
      "---------------\n",
      "f1_score = 0.9968623935454952\n",
      "f1_score = 0.5593220338983051\n",
      "depth = 15 and n_estimators = 180\n",
      "---------------\n",
      "f1_score = 0.9968623935454952\n",
      "f1_score = 0.5612244897959183\n",
      "depth = 15 and n_estimators = 190\n",
      "---------------\n"
     ]
    }
   ],
   "source": [
    "for depth in range(12, 16, 1):\n",
    "    for step in range(180, 200, 10):\n",
    "        model = RandomForestClassifier(n_estimators=step, max_depth=depth, class_weight='balanced', random_state=12345)\n",
    "        model.fit(features_train, target_train)\n",
    "        predictions_train = model.predict(features_train)\n",
    "        predictions_valid = model.predict(features_valid)\n",
    "        print(f'f1_score = {f1_score(target_train, predictions_train)}')\n",
    "        print(f'f1_score = {f1_score(target_valid, predictions_valid)}')\n",
    "        print(f'depth = {depth} and n_estimators = {step}')\n",
    "        print('---------------')"
   ]
  },
  {
   "cell_type": "code",
   "execution_count": 59,
   "metadata": {},
   "outputs": [
    {
     "name": "stdout",
     "output_type": "stream",
     "text": [
      "f1_score = 0.93125\n",
      "f1_score = 0.5976676384839651\n",
      "depth = 12 and n_estimators = 180\n"
     ]
    }
   ],
   "source": [
    "model = RandomForestClassifier(n_estimators=190, max_depth=12, class_weight='balanced', random_state=12345)\n",
    "model.fit(features_train, target_train)\n",
    "predictions_train = model.predict(features_train)\n",
    "predictions_test = model.predict(features_test)\n",
    "print(f'f1_score = {f1_score(target_train, predictions_train)}')\n",
    "print(f'f1_score = {f1_score(target_test, predictions_test)}')\n",
    "print(f'depth = {12} and n_estimators = {180}')"
   ]
  },
  {
   "cell_type": "code",
   "execution_count": 60,
   "metadata": {},
   "outputs": [
    {
     "name": "stdout",
     "output_type": "stream",
     "text": [
      "F1: 0.5976676384839651\n"
     ]
    }
   ],
   "source": [
    "# class_weight='balanced'\n",
    "model = RandomForestClassifier(n_estimators=190, max_depth=12, class_weight='balanced', random_state=12345)\n",
    "model.fit(features_train, target_train)\n",
    "predicted_test = model.predict(features_test)\n",
    "print(\"F1:\", f1_score(target_test, predicted_test))"
   ]
  },
  {
   "cell_type": "code",
   "execution_count": 72,
   "metadata": {},
   "outputs": [
    {
     "data": {
      "text/plain": [
       "3216    0\n",
       "8554    0\n",
       "5091    0\n",
       "7991    0\n",
       "1087    0\n",
       "       ..\n",
       "2874    0\n",
       "5048    1\n",
       "2349    0\n",
       "7285    0\n",
       "7787    0\n",
       "Name: Exited, Length: 1819, dtype: int64"
      ]
     },
     "execution_count": 72,
     "metadata": {},
     "output_type": "execute_result"
    }
   ],
   "source": [
    "target_test"
   ]
  },
  {
   "cell_type": "code",
   "execution_count": 73,
   "metadata": {},
   "outputs": [
    {
     "data": {
      "text/plain": [
       "1819"
      ]
     },
     "execution_count": 73,
     "metadata": {},
     "output_type": "execute_result"
    }
   ],
   "source": [
    "len(predicted_test)"
   ]
  },
  {
   "cell_type": "code",
   "execution_count": 63,
   "metadata": {},
   "outputs": [
    {
     "data": {
      "text/html": [
       "<div>\n",
       "<style scoped>\n",
       "    .dataframe tbody tr th:only-of-type {\n",
       "        vertical-align: middle;\n",
       "    }\n",
       "\n",
       "    .dataframe tbody tr th {\n",
       "        vertical-align: top;\n",
       "    }\n",
       "\n",
       "    .dataframe thead th {\n",
       "        text-align: right;\n",
       "    }\n",
       "</style>\n",
       "<table border=\"1\" class=\"dataframe\">\n",
       "  <thead>\n",
       "    <tr style=\"text-align: right;\">\n",
       "      <th></th>\n",
       "      <th>precision</th>\n",
       "      <th>recall</th>\n",
       "      <th>f1-score</th>\n",
       "      <th>support</th>\n",
       "    </tr>\n",
       "  </thead>\n",
       "  <tbody>\n",
       "    <tr>\n",
       "      <th>0</th>\n",
       "      <td>0.889628</td>\n",
       "      <td>0.924033</td>\n",
       "      <td>0.906504</td>\n",
       "      <td>1448.000000</td>\n",
       "    </tr>\n",
       "    <tr>\n",
       "      <th>1</th>\n",
       "      <td>0.650794</td>\n",
       "      <td>0.552561</td>\n",
       "      <td>0.597668</td>\n",
       "      <td>371.000000</td>\n",
       "    </tr>\n",
       "    <tr>\n",
       "      <th>accuracy</th>\n",
       "      <td>0.848268</td>\n",
       "      <td>0.848268</td>\n",
       "      <td>0.848268</td>\n",
       "      <td>0.848268</td>\n",
       "    </tr>\n",
       "    <tr>\n",
       "      <th>macro avg</th>\n",
       "      <td>0.770211</td>\n",
       "      <td>0.738297</td>\n",
       "      <td>0.752086</td>\n",
       "      <td>1819.000000</td>\n",
       "    </tr>\n",
       "    <tr>\n",
       "      <th>weighted avg</th>\n",
       "      <td>0.840916</td>\n",
       "      <td>0.848268</td>\n",
       "      <td>0.843514</td>\n",
       "      <td>1819.000000</td>\n",
       "    </tr>\n",
       "  </tbody>\n",
       "</table>\n",
       "</div>"
      ],
      "text/plain": [
       "              precision    recall  f1-score      support\n",
       "0              0.889628  0.924033  0.906504  1448.000000\n",
       "1              0.650794  0.552561  0.597668   371.000000\n",
       "accuracy       0.848268  0.848268  0.848268     0.848268\n",
       "macro avg      0.770211  0.738297  0.752086  1819.000000\n",
       "weighted avg   0.840916  0.848268  0.843514  1819.000000"
      ]
     },
     "execution_count": 63,
     "metadata": {},
     "output_type": "execute_result"
    }
   ],
   "source": [
    "pd.DataFrame(classification_report(target_test, predictions_test, output_dict=True)).transpose()"
   ]
  },
  {
   "cell_type": "markdown",
   "metadata": {},
   "source": [
    "В модели случайного леса при глубине 12 и количество деревьев 180 мы достигаем показатель f1-метрики до 0.59. Обтобразим нашу модель на ROC-кривой и измерим ее относительную площадь (AUC-ROC)."
   ]
  },
  {
   "cell_type": "code",
   "execution_count": 64,
   "metadata": {
    "scrolled": true
   },
   "outputs": [
    {
     "data": {
      "image/png": "[encoded data removed]",
      "text/plain": [
       "<Figure size 432x432 with 1 Axes>"
      ]
     },
     "metadata": {
      "needs_background": "light"
     },
     "output_type": "display_data"
    },
    {
     "name": "stdout",
     "output_type": "stream",
     "text": [
      "AUC-ROC = 0.8432636892972555\n"
     ]
    }
   ],
   "source": [
    "# построим ROC-кривую\n",
    "\n",
    "probabilities_test = model.predict_proba(features_test)\n",
    "probabilities_one_test = probabilities_test[:, 1]\n",
    "\n",
    "fpr, tpr, thresholds = roc_curve(target_test, probabilities_one_test) # < напишите код здесь >\n",
    "\n",
    "ax=plt.figure(figsize=(6, 6))\n",
    "\n",
    "# < постройте график >\n",
    "plt.plot(fpr, tpr)\n",
    "# ROC-кривая случайной модели (выглядит как прямая)\n",
    "plt.plot([0, 1], [0, 1], linestyle='--')\n",
    "\n",
    "# < примените функции plt.xlim() и plt.ylim(), чтобы\n",
    "#   установить границы осей от 0 до 1 >\n",
    "plt.ylim([0, 1])\n",
    "plt.xlim([0, 1])\n",
    "\n",
    "# < примените функции plt.xlabel() и plt.ylabel(), чтобы\n",
    "#   подписать оси \"False Positive Rate\" и \"True Positive Rate\" >\n",
    "plt.xlabel('False Positive Rate')\n",
    "plt.ylabel('True Positive Rate')\n",
    "\n",
    "# < добавьте к графику заголовок \"ROC-кривая\" функцией plt.title() >\n",
    "plt.title('ROC-кривая')\n",
    "plt.show()\n",
    "auc_roc = roc_auc_score(target_test, probabilities_one_test)\n",
    "print(f'AUC-ROC = {auc_roc}')"
   ]
  },
  {
   "cell_type": "markdown",
   "metadata": {},
   "source": [
    "Таким образом, финальное тестирование показала нам, что мы мможем добиться необходимой точности при построение модели случайного леса. Также важно учитывать ее параметры: глубину, количество деревьев и баланс данных. "
   ]
  },
  {
   "cell_type": "code",
   "execution_count": null,
   "metadata": {},
   "outputs": [],
   "source": []
  }
 ],
 "metadata": {
  "ExecuteTimeLog": [
   {
    "duration": 1125,
    "start_time": "2022-03-14T18:17:59.073Z"
   },
   {
    "duration": 38,
    "start_time": "2022-03-14T18:18:21.614Z"
   },
   {
    "duration": 9,
    "start_time": "2022-03-14T18:18:35.189Z"
   },
   {
    "duration": 49,
    "start_time": "2022-03-14T18:19:28.613Z"
   },
   {
    "duration": 234,
    "start_time": "2022-03-14T18:27:18.360Z"
   },
   {
    "duration": 4,
    "start_time": "2022-03-14T18:27:47.023Z"
   },
   {
    "duration": 22,
    "start_time": "2022-03-14T18:27:56.635Z"
   },
   {
    "duration": 16,
    "start_time": "2022-03-14T18:28:07.956Z"
   },
   {
    "duration": 15,
    "start_time": "2022-03-14T18:29:05.812Z"
   },
   {
    "duration": 41937,
    "start_time": "2022-03-14T19:04:55.469Z"
   },
   {
    "duration": 17,
    "start_time": "2022-03-14T19:06:04.810Z"
   },
   {
    "duration": 20,
    "start_time": "2022-03-14T19:06:16.401Z"
   },
   {
    "duration": 16,
    "start_time": "2022-03-14T19:06:23.829Z"
   },
   {
    "duration": 21,
    "start_time": "2022-03-14T19:06:33.030Z"
   },
   {
    "duration": 19,
    "start_time": "2022-03-14T19:06:46.862Z"
   },
   {
    "duration": 20,
    "start_time": "2022-03-14T19:06:54.208Z"
   },
   {
    "duration": 343,
    "start_time": "2022-03-14T19:07:01.550Z"
   },
   {
    "duration": 17,
    "start_time": "2022-03-14T19:07:13.641Z"
   },
   {
    "duration": 175,
    "start_time": "2022-03-16T13:53:53.665Z"
   },
   {
    "duration": 1184,
    "start_time": "2022-03-16T13:54:06.805Z"
   },
   {
    "duration": 35,
    "start_time": "2022-03-16T13:54:07.991Z"
   },
   {
    "duration": 8,
    "start_time": "2022-03-16T13:54:08.028Z"
   },
   {
    "duration": 18,
    "start_time": "2022-03-16T13:54:08.038Z"
   },
   {
    "duration": 16,
    "start_time": "2022-03-16T13:54:08.058Z"
   },
   {
    "duration": 14,
    "start_time": "2022-03-16T13:54:08.075Z"
   },
   {
    "duration": 47818,
    "start_time": "2022-03-16T13:54:08.091Z"
   },
   {
    "duration": 41,
    "start_time": "2022-03-16T13:54:55.913Z"
   },
   {
    "duration": 387,
    "start_time": "2022-03-16T13:54:55.956Z"
   },
   {
    "duration": 5,
    "start_time": "2022-03-16T13:54:56.345Z"
   },
   {
    "duration": 4,
    "start_time": "2022-03-16T13:57:44.738Z"
   },
   {
    "duration": 8,
    "start_time": "2022-03-16T13:57:50.050Z"
   },
   {
    "duration": 5,
    "start_time": "2022-03-16T14:06:15.385Z"
   },
   {
    "duration": 9,
    "start_time": "2022-03-16T14:10:14.046Z"
   },
   {
    "duration": 214,
    "start_time": "2022-03-16T14:21:04.986Z"
   },
   {
    "duration": 132,
    "start_time": "2022-03-16T14:22:24.154Z"
   },
   {
    "duration": 182,
    "start_time": "2022-03-16T14:22:31.794Z"
   },
   {
    "duration": 140,
    "start_time": "2022-03-16T14:22:39.939Z"
   },
   {
    "duration": 5,
    "start_time": "2022-03-16T14:23:02.386Z"
   },
   {
    "duration": 423,
    "start_time": "2022-03-16T14:23:17.771Z"
   },
   {
    "duration": 1967,
    "start_time": "2022-03-17T09:55:17.850Z"
   },
   {
    "duration": 43,
    "start_time": "2022-03-17T09:55:19.819Z"
   },
   {
    "duration": 13,
    "start_time": "2022-03-17T09:55:19.864Z"
   },
   {
    "duration": 22,
    "start_time": "2022-03-17T09:55:19.880Z"
   },
   {
    "duration": 17,
    "start_time": "2022-03-17T09:55:19.903Z"
   },
   {
    "duration": 22,
    "start_time": "2022-03-17T09:55:19.922Z"
   },
   {
    "duration": 19573,
    "start_time": "2022-03-17T09:55:19.945Z"
   },
   {
    "duration": 21,
    "start_time": "2022-03-17T09:55:39.520Z"
   },
   {
    "duration": 448,
    "start_time": "2022-03-17T09:55:39.543Z"
   },
   {
    "duration": 6,
    "start_time": "2022-03-17T09:55:40.002Z"
   },
   {
    "duration": 185,
    "start_time": "2022-03-17T09:55:40.010Z"
   },
   {
    "duration": 0,
    "start_time": "2022-03-17T09:55:40.197Z"
   },
   {
    "duration": 111,
    "start_time": "2022-03-17T10:04:53.072Z"
   },
   {
    "duration": 223,
    "start_time": "2022-03-17T10:05:21.656Z"
   },
   {
    "duration": 402,
    "start_time": "2022-03-17T10:05:26.256Z"
   },
   {
    "duration": 391,
    "start_time": "2022-03-17T10:05:27.317Z"
   },
   {
    "duration": 13,
    "start_time": "2022-03-17T10:10:02.569Z"
   },
   {
    "duration": 446,
    "start_time": "2022-03-17T10:10:13.275Z"
   },
   {
    "duration": 35,
    "start_time": "2022-03-17T11:20:41.115Z"
   },
   {
    "duration": 310,
    "start_time": "2022-03-17T11:20:52.891Z"
   },
   {
    "duration": 39,
    "start_time": "2022-03-17T11:21:08.131Z"
   },
   {
    "duration": 28,
    "start_time": "2022-03-17T11:21:11.154Z"
   },
   {
    "duration": 43,
    "start_time": "2022-03-17T11:21:17.629Z"
   },
   {
    "duration": 5,
    "start_time": "2022-03-17T11:21:19.481Z"
   },
   {
    "duration": 15,
    "start_time": "2022-03-17T11:21:20.513Z"
   },
   {
    "duration": 14,
    "start_time": "2022-03-17T11:21:22.937Z"
   },
   {
    "duration": 7,
    "start_time": "2022-03-17T11:21:24.601Z"
   },
   {
    "duration": 17,
    "start_time": "2022-03-17T11:21:25.096Z"
   },
   {
    "duration": 33,
    "start_time": "2022-03-17T11:22:13.654Z"
   },
   {
    "duration": 7,
    "start_time": "2022-03-17T11:22:30.942Z"
   },
   {
    "duration": 14,
    "start_time": "2022-03-17T11:22:32.215Z"
   },
   {
    "duration": 33,
    "start_time": "2022-03-17T11:22:38.756Z"
   },
   {
    "duration": 15,
    "start_time": "2022-03-17T11:22:38.987Z"
   },
   {
    "duration": 8,
    "start_time": "2022-03-17T11:22:39.237Z"
   },
   {
    "duration": 8,
    "start_time": "2022-03-17T11:22:41.659Z"
   },
   {
    "duration": 21,
    "start_time": "2022-03-17T11:22:42.288Z"
   },
   {
    "duration": 34,
    "start_time": "2022-03-17T11:22:46.549Z"
   },
   {
    "duration": 421,
    "start_time": "2022-03-17T11:23:18.173Z"
   },
   {
    "duration": 3,
    "start_time": "2022-03-17T11:23:27.577Z"
   },
   {
    "duration": 116,
    "start_time": "2022-03-17T11:23:27.593Z"
   },
   {
    "duration": 21,
    "start_time": "2022-03-17T11:23:27.713Z"
   },
   {
    "duration": 12,
    "start_time": "2022-03-17T11:23:27.736Z"
   },
   {
    "duration": 14,
    "start_time": "2022-03-17T11:23:27.750Z"
   },
   {
    "duration": 15,
    "start_time": "2022-03-17T11:23:27.766Z"
   },
   {
    "duration": 25540,
    "start_time": "2022-03-17T11:23:27.801Z"
   },
   {
    "duration": 25,
    "start_time": "2022-03-17T11:23:53.344Z"
   },
   {
    "duration": 699,
    "start_time": "2022-03-17T11:23:53.372Z"
   },
   {
    "duration": 9,
    "start_time": "2022-03-17T11:23:54.074Z"
   },
   {
    "duration": 382,
    "start_time": "2022-03-17T11:23:54.100Z"
   },
   {
    "duration": 537,
    "start_time": "2022-03-17T11:23:54.484Z"
   },
   {
    "duration": 0,
    "start_time": "2022-03-17T11:23:55.101Z"
   },
   {
    "duration": 15,
    "start_time": "2022-03-17T11:24:27.830Z"
   },
   {
    "duration": 15,
    "start_time": "2022-03-17T11:24:36.521Z"
   },
   {
    "duration": 14,
    "start_time": "2022-03-17T11:26:28.760Z"
   },
   {
    "duration": 4,
    "start_time": "2022-03-17T11:27:55.771Z"
   },
   {
    "duration": 20,
    "start_time": "2022-03-17T11:27:59.700Z"
   },
   {
    "duration": 6,
    "start_time": "2022-03-17T11:28:57.829Z"
   },
   {
    "duration": 6,
    "start_time": "2022-03-17T12:54:22.300Z"
   },
   {
    "duration": 38,
    "start_time": "2022-03-17T12:54:22.312Z"
   },
   {
    "duration": 19,
    "start_time": "2022-03-17T12:54:22.353Z"
   },
   {
    "duration": 36,
    "start_time": "2022-03-17T12:54:22.374Z"
   },
   {
    "duration": 19,
    "start_time": "2022-03-17T12:54:22.413Z"
   },
   {
    "duration": 19,
    "start_time": "2022-03-17T12:54:22.435Z"
   },
   {
    "duration": 37905,
    "start_time": "2022-03-17T12:54:22.456Z"
   },
   {
    "duration": 47,
    "start_time": "2022-03-17T12:55:00.364Z"
   },
   {
    "duration": 562,
    "start_time": "2022-03-17T12:55:00.413Z"
   },
   {
    "duration": 7,
    "start_time": "2022-03-17T12:55:00.976Z"
   },
   {
    "duration": 386,
    "start_time": "2022-03-17T12:55:00.986Z"
   },
   {
    "duration": 529,
    "start_time": "2022-03-17T12:55:01.374Z"
   },
   {
    "duration": 98,
    "start_time": "2022-03-17T12:55:01.912Z"
   },
   {
    "duration": 277,
    "start_time": "2022-03-17T12:56:03.686Z"
   },
   {
    "duration": 190,
    "start_time": "2022-03-17T12:56:15.781Z"
   },
   {
    "duration": 796,
    "start_time": "2022-03-17T12:56:20.989Z"
   },
   {
    "duration": 5,
    "start_time": "2022-03-17T12:56:28.166Z"
   },
   {
    "duration": 6159,
    "start_time": "2022-03-17T12:58:58.548Z"
   },
   {
    "duration": 16,
    "start_time": "2022-03-17T12:59:10.316Z"
   },
   {
    "duration": 13,
    "start_time": "2022-03-17T13:00:01.323Z"
   },
   {
    "duration": 20,
    "start_time": "2022-03-17T13:00:15.826Z"
   },
   {
    "duration": 26,
    "start_time": "2022-03-17T13:01:03.014Z"
   },
   {
    "duration": 8593,
    "start_time": "2022-03-17T13:56:53.610Z"
   },
   {
    "duration": 17,
    "start_time": "2022-03-17T13:57:04.122Z"
   },
   {
    "duration": 4,
    "start_time": "2022-03-17T14:42:13.476Z"
   },
   {
    "duration": 263,
    "start_time": "2022-03-17T14:44:15.995Z"
   },
   {
    "duration": 280,
    "start_time": "2022-03-17T14:45:38.512Z"
   },
   {
    "duration": 256,
    "start_time": "2022-03-17T14:46:49.015Z"
   },
   {
    "duration": 102,
    "start_time": "2022-03-17T14:47:19.176Z"
   },
   {
    "duration": 10,
    "start_time": "2022-03-17T14:47:26.860Z"
   },
   {
    "duration": 42,
    "start_time": "2022-03-17T14:47:35.632Z"
   },
   {
    "duration": 29,
    "start_time": "2022-03-17T14:47:38.503Z"
   },
   {
    "duration": 54,
    "start_time": "2022-03-17T14:51:11.495Z"
   },
   {
    "duration": 28,
    "start_time": "2022-03-17T14:51:16.782Z"
   },
   {
    "duration": 52,
    "start_time": "2022-03-17T14:51:22.887Z"
   },
   {
    "duration": 29,
    "start_time": "2022-03-17T14:51:28.944Z"
   },
   {
    "duration": 54,
    "start_time": "2022-03-17T14:51:30.846Z"
   },
   {
    "duration": 24,
    "start_time": "2022-03-17T14:51:43.662Z"
   },
   {
    "duration": 25,
    "start_time": "2022-03-17T14:51:47.999Z"
   },
   {
    "duration": 95,
    "start_time": "2022-03-17T14:54:54.747Z"
   },
   {
    "duration": 44,
    "start_time": "2022-03-17T14:55:45.053Z"
   },
   {
    "duration": 6,
    "start_time": "2022-03-17T14:55:54.229Z"
   },
   {
    "duration": 18,
    "start_time": "2022-03-17T14:56:02.512Z"
   },
   {
    "duration": 69,
    "start_time": "2022-03-17T14:56:08.925Z"
   },
   {
    "duration": 10,
    "start_time": "2022-03-17T14:56:20.565Z"
   },
   {
    "duration": 3,
    "start_time": "2022-03-17T14:57:14.022Z"
   },
   {
    "duration": 12,
    "start_time": "2022-03-17T14:57:18.261Z"
   },
   {
    "duration": 11,
    "start_time": "2022-03-17T14:57:28.830Z"
   },
   {
    "duration": 12,
    "start_time": "2022-03-17T14:58:30.831Z"
   },
   {
    "duration": 65,
    "start_time": "2022-03-17T15:01:52.430Z"
   },
   {
    "duration": 39,
    "start_time": "2022-03-17T15:02:01.838Z"
   },
   {
    "duration": 68,
    "start_time": "2022-03-17T15:02:04.815Z"
   },
   {
    "duration": 44,
    "start_time": "2022-03-17T15:02:22.580Z"
   },
   {
    "duration": 263,
    "start_time": "2022-03-17T15:02:37.113Z"
   },
   {
    "duration": 4,
    "start_time": "2022-03-17T15:03:17.278Z"
   },
   {
    "duration": 267,
    "start_time": "2022-03-17T15:03:22.278Z"
   },
   {
    "duration": 10,
    "start_time": "2022-03-17T15:03:45.742Z"
   },
   {
    "duration": 261,
    "start_time": "2022-03-17T15:10:20.065Z"
   },
   {
    "duration": 12,
    "start_time": "2022-03-17T15:10:52.184Z"
   },
   {
    "duration": 284,
    "start_time": "2022-03-17T15:11:02.367Z"
   },
   {
    "duration": 253,
    "start_time": "2022-03-17T15:11:28.832Z"
   },
   {
    "duration": 194,
    "start_time": "2022-03-17T15:11:36.639Z"
   },
   {
    "duration": 6,
    "start_time": "2022-03-17T15:11:45.752Z"
   },
   {
    "duration": 136,
    "start_time": "2022-03-17T15:12:06.714Z"
   },
   {
    "duration": 27,
    "start_time": "2022-03-17T15:12:07.771Z"
   },
   {
    "duration": 163,
    "start_time": "2022-03-17T15:12:13.554Z"
   },
   {
    "duration": 5,
    "start_time": "2022-03-17T15:12:49.987Z"
   },
   {
    "duration": 366,
    "start_time": "2022-03-17T15:12:50.236Z"
   },
   {
    "duration": 1183,
    "start_time": "2022-03-17T15:13:32.723Z"
   },
   {
    "duration": 361,
    "start_time": "2022-03-17T15:14:27.188Z"
   },
   {
    "duration": 369,
    "start_time": "2022-03-17T15:14:57.893Z"
   },
   {
    "duration": 361,
    "start_time": "2022-03-17T15:15:26.222Z"
   },
   {
    "duration": 369,
    "start_time": "2022-03-17T15:15:31.741Z"
   },
   {
    "duration": 3879,
    "start_time": "2022-03-17T15:16:17.967Z"
   },
   {
    "duration": 3383,
    "start_time": "2022-03-17T15:16:24.983Z"
   },
   {
    "duration": 3097,
    "start_time": "2022-03-17T15:16:41.120Z"
   },
   {
    "duration": 330,
    "start_time": "2022-03-17T15:16:59.010Z"
   },
   {
    "duration": 334,
    "start_time": "2022-03-17T15:18:07.417Z"
   },
   {
    "duration": 5,
    "start_time": "2022-03-17T15:18:17.014Z"
   },
   {
    "duration": 225,
    "start_time": "2022-03-17T15:18:17.649Z"
   },
   {
    "duration": 872,
    "start_time": "2022-03-17T15:18:26.153Z"
   },
   {
    "duration": 134,
    "start_time": "2022-03-17T15:27:27.497Z"
   },
   {
    "duration": 143,
    "start_time": "2022-03-17T15:28:44.810Z"
   },
   {
    "duration": 241,
    "start_time": "2022-03-17T15:29:08.271Z"
   },
   {
    "duration": 421,
    "start_time": "2022-03-17T15:49:06.189Z"
   },
   {
    "duration": 5,
    "start_time": "2022-03-17T15:49:23.972Z"
   },
   {
    "duration": 553,
    "start_time": "2022-03-17T15:49:27.693Z"
   },
   {
    "duration": 607,
    "start_time": "2022-03-17T15:49:54.174Z"
   },
   {
    "duration": 650,
    "start_time": "2022-03-17T15:50:07.518Z"
   },
   {
    "duration": 645,
    "start_time": "2022-03-17T15:50:19.197Z"
   },
   {
    "duration": 671,
    "start_time": "2022-03-17T15:52:01.688Z"
   },
   {
    "duration": 625,
    "start_time": "2022-03-17T15:52:31.040Z"
   },
   {
    "duration": 97,
    "start_time": "2022-03-17T16:03:54.520Z"
   },
   {
    "duration": 4,
    "start_time": "2022-03-17T16:04:11.936Z"
   },
   {
    "duration": 110,
    "start_time": "2022-03-17T16:04:17.116Z"
   },
   {
    "duration": 182,
    "start_time": "2022-03-17T16:04:21.423Z"
   },
   {
    "duration": 13,
    "start_time": "2022-03-17T16:04:38.707Z"
   },
   {
    "duration": 367,
    "start_time": "2022-03-17T16:04:42.985Z"
   },
   {
    "duration": 342,
    "start_time": "2022-03-17T16:09:54.808Z"
   },
   {
    "duration": 5,
    "start_time": "2022-03-17T16:10:00.935Z"
   },
   {
    "duration": 335,
    "start_time": "2022-03-17T16:10:04.318Z"
   },
   {
    "duration": 760,
    "start_time": "2022-03-17T16:17:52.194Z"
   },
   {
    "duration": 703,
    "start_time": "2022-03-17T16:18:04.119Z"
   },
   {
    "duration": 114,
    "start_time": "2022-03-17T16:21:16.007Z"
   },
   {
    "duration": 49,
    "start_time": "2022-03-18T11:21:49.176Z"
   },
   {
    "duration": 8,
    "start_time": "2022-03-18T11:22:04.609Z"
   },
   {
    "duration": 1575,
    "start_time": "2022-03-18T11:22:10.058Z"
   },
   {
    "duration": 38,
    "start_time": "2022-03-18T11:22:11.635Z"
   },
   {
    "duration": 12,
    "start_time": "2022-03-18T11:22:11.674Z"
   },
   {
    "duration": 4,
    "start_time": "2022-03-18T11:22:11.688Z"
   },
   {
    "duration": 18,
    "start_time": "2022-03-18T11:22:11.694Z"
   },
   {
    "duration": 12,
    "start_time": "2022-03-18T11:22:11.714Z"
   },
   {
    "duration": 18805,
    "start_time": "2022-03-18T11:22:11.728Z"
   },
   {
    "duration": 20,
    "start_time": "2022-03-18T11:22:30.535Z"
   },
   {
    "duration": 467,
    "start_time": "2022-03-18T11:22:30.556Z"
   },
   {
    "duration": 6,
    "start_time": "2022-03-18T11:22:31.025Z"
   },
   {
    "duration": 978,
    "start_time": "2022-03-18T11:22:31.032Z"
   },
   {
    "duration": 5597,
    "start_time": "2022-03-18T11:22:32.012Z"
   },
   {
    "duration": 107,
    "start_time": "2022-03-18T11:22:37.613Z"
   },
   {
    "duration": 7007,
    "start_time": "2022-03-18T11:22:37.723Z"
   },
   {
    "duration": 184,
    "start_time": "2022-03-18T11:22:44.733Z"
   },
   {
    "duration": 4,
    "start_time": "2022-03-18T11:22:44.919Z"
   },
   {
    "duration": 330,
    "start_time": "2022-03-18T11:22:44.925Z"
   },
   {
    "duration": 0,
    "start_time": "2022-03-18T11:22:45.257Z"
   },
   {
    "duration": 0,
    "start_time": "2022-03-18T11:22:45.258Z"
   },
   {
    "duration": 0,
    "start_time": "2022-03-18T11:22:45.259Z"
   },
   {
    "duration": 0,
    "start_time": "2022-03-18T11:22:45.260Z"
   },
   {
    "duration": 0,
    "start_time": "2022-03-18T11:22:45.261Z"
   },
   {
    "duration": 0,
    "start_time": "2022-03-18T11:22:45.262Z"
   },
   {
    "duration": 0,
    "start_time": "2022-03-18T11:22:45.263Z"
   },
   {
    "duration": 125,
    "start_time": "2022-03-18T11:24:01.891Z"
   },
   {
    "duration": 4,
    "start_time": "2022-03-18T11:24:02.288Z"
   },
   {
    "duration": 233,
    "start_time": "2022-03-18T11:24:02.987Z"
   },
   {
    "duration": 676,
    "start_time": "2022-03-18T11:24:04.637Z"
   },
   {
    "duration": 4,
    "start_time": "2022-03-18T11:24:06.995Z"
   },
   {
    "duration": 139,
    "start_time": "2022-03-18T11:24:07.178Z"
   },
   {
    "duration": 234,
    "start_time": "2022-03-18T11:24:07.380Z"
   },
   {
    "duration": 655,
    "start_time": "2022-03-18T11:24:08.011Z"
   },
   {
    "duration": 5578,
    "start_time": "2022-03-18T11:24:11.890Z"
   },
   {
    "duration": 5800,
    "start_time": "2022-03-18T11:27:14.057Z"
   },
   {
    "duration": 6601,
    "start_time": "2022-03-18T11:27:51.365Z"
   },
   {
    "duration": 209,
    "start_time": "2022-03-18T11:30:42.309Z"
   },
   {
    "duration": 108,
    "start_time": "2022-03-18T11:35:03.627Z"
   },
   {
    "duration": 620,
    "start_time": "2022-03-18T11:35:03.844Z"
   },
   {
    "duration": 120,
    "start_time": "2022-03-18T11:35:12.508Z"
   },
   {
    "duration": 6729,
    "start_time": "2022-03-18T11:35:12.875Z"
   },
   {
    "duration": 5554,
    "start_time": "2022-03-18T11:36:38.216Z"
   },
   {
    "duration": 16,
    "start_time": "2022-03-18T11:37:08.894Z"
   },
   {
    "duration": 12,
    "start_time": "2022-03-18T11:45:20.912Z"
   },
   {
    "duration": 5718,
    "start_time": "2022-03-18T11:45:37.121Z"
   },
   {
    "duration": 16,
    "start_time": "2022-03-18T11:50:53.896Z"
   },
   {
    "duration": 16,
    "start_time": "2022-03-18T11:51:17.352Z"
   },
   {
    "duration": 44963,
    "start_time": "2022-03-18T11:54:45.055Z"
   },
   {
    "duration": 9397,
    "start_time": "2022-03-18T11:56:03.991Z"
   },
   {
    "duration": 14664,
    "start_time": "2022-03-18T11:56:31.512Z"
   },
   {
    "duration": 16,
    "start_time": "2022-03-18T11:57:10.647Z"
   },
   {
    "duration": 2509,
    "start_time": "2022-03-18T11:57:51.007Z"
   },
   {
    "duration": 17,
    "start_time": "2022-03-18T11:57:59.288Z"
   },
   {
    "duration": 233,
    "start_time": "2022-03-18T12:00:06.518Z"
   },
   {
    "duration": 225,
    "start_time": "2022-03-18T12:05:19.317Z"
   },
   {
    "duration": 234,
    "start_time": "2022-03-18T12:07:23.415Z"
   },
   {
    "duration": 156,
    "start_time": "2022-03-19T14:23:58.799Z"
   },
   {
    "duration": 1580,
    "start_time": "2022-03-19T14:33:16.136Z"
   },
   {
    "duration": 42,
    "start_time": "2022-03-19T14:33:17.718Z"
   },
   {
    "duration": 12,
    "start_time": "2022-03-19T14:33:17.761Z"
   },
   {
    "duration": 3,
    "start_time": "2022-03-19T14:33:17.820Z"
   },
   {
    "duration": 5,
    "start_time": "2022-03-19T14:33:20.419Z"
   },
   {
    "duration": 11,
    "start_time": "2022-03-19T14:33:20.909Z"
   },
   {
    "duration": 8,
    "start_time": "2022-03-19T14:33:26.521Z"
   },
   {
    "duration": 887,
    "start_time": "2022-03-19T14:33:43.881Z"
   },
   {
    "duration": 4,
    "start_time": "2022-03-19T15:09:52.093Z"
   },
   {
    "duration": 320,
    "start_time": "2022-03-19T15:09:53.056Z"
   },
   {
    "duration": 706,
    "start_time": "2022-03-19T15:10:19.609Z"
   },
   {
    "duration": 5,
    "start_time": "2022-03-19T15:10:22.694Z"
   },
   {
    "duration": 491,
    "start_time": "2022-03-19T15:12:32.192Z"
   },
   {
    "duration": 21,
    "start_time": "2022-03-19T15:12:32.882Z"
   },
   {
    "duration": 686,
    "start_time": "2022-03-19T15:12:39.053Z"
   },
   {
    "duration": 20,
    "start_time": "2022-03-19T15:12:39.741Z"
   },
   {
    "duration": 694,
    "start_time": "2022-03-19T15:12:51.949Z"
   },
   {
    "duration": 21,
    "start_time": "2022-03-19T15:12:53.110Z"
   },
   {
    "duration": 20,
    "start_time": "2022-03-19T15:12:56.686Z"
   },
   {
    "duration": 4,
    "start_time": "2022-03-19T15:13:07.632Z"
   },
   {
    "duration": 16,
    "start_time": "2022-03-19T15:13:09.254Z"
   },
   {
    "duration": 704,
    "start_time": "2022-03-19T15:17:50.231Z"
   },
   {
    "duration": 21,
    "start_time": "2022-03-19T15:17:57.812Z"
   },
   {
    "duration": 3,
    "start_time": "2022-03-19T15:19:58.945Z"
   },
   {
    "duration": 281,
    "start_time": "2022-03-19T15:20:01.042Z"
   },
   {
    "duration": 12073,
    "start_time": "2022-03-19T15:20:04.308Z"
   },
   {
    "duration": 107,
    "start_time": "2022-03-19T15:24:06.480Z"
   },
   {
    "duration": 4,
    "start_time": "2022-03-19T15:24:14.492Z"
   },
   {
    "duration": 5,
    "start_time": "2022-03-19T15:24:22.715Z"
   },
   {
    "duration": 31,
    "start_time": "2022-03-19T15:25:44.026Z"
   },
   {
    "duration": 23,
    "start_time": "2022-03-19T15:26:31.242Z"
   },
   {
    "duration": 438,
    "start_time": "2022-03-19T15:26:38.677Z"
   },
   {
    "duration": 4,
    "start_time": "2022-03-19T15:26:43.556Z"
   },
   {
    "duration": 39,
    "start_time": "2022-03-19T15:26:43.562Z"
   },
   {
    "duration": 11,
    "start_time": "2022-03-19T15:26:43.602Z"
   },
   {
    "duration": 5,
    "start_time": "2022-03-19T15:26:43.615Z"
   },
   {
    "duration": 6,
    "start_time": "2022-03-19T15:26:43.621Z"
   },
   {
    "duration": 13,
    "start_time": "2022-03-19T15:26:43.629Z"
   },
   {
    "duration": 15978,
    "start_time": "2022-03-19T15:26:43.643Z"
   },
   {
    "duration": 17,
    "start_time": "2022-03-19T15:26:59.623Z"
   },
   {
    "duration": 392,
    "start_time": "2022-03-19T15:26:59.642Z"
   },
   {
    "duration": 5,
    "start_time": "2022-03-19T15:27:00.036Z"
   },
   {
    "duration": 165,
    "start_time": "2022-03-19T15:27:00.042Z"
   },
   {
    "duration": 135,
    "start_time": "2022-03-19T15:27:00.209Z"
   },
   {
    "duration": 3,
    "start_time": "2022-03-19T15:27:00.346Z"
   },
   {
    "duration": 7,
    "start_time": "2022-03-19T15:27:00.350Z"
   },
   {
    "duration": 35,
    "start_time": "2022-03-19T15:27:00.359Z"
   },
   {
    "duration": 456,
    "start_time": "2022-03-19T15:27:00.395Z"
   },
   {
    "duration": 33,
    "start_time": "2022-03-19T15:27:00.853Z"
   },
   {
    "duration": 4095,
    "start_time": "2022-03-19T15:27:00.888Z"
   },
   {
    "duration": 104,
    "start_time": "2022-03-19T15:27:04.986Z"
   },
   {
    "duration": 5093,
    "start_time": "2022-03-19T15:27:05.092Z"
   },
   {
    "duration": 195,
    "start_time": "2022-03-19T15:27:10.187Z"
   },
   {
    "duration": 2,
    "start_time": "2022-03-19T15:27:10.384Z"
   },
   {
    "duration": 5,
    "start_time": "2022-03-19T15:27:10.388Z"
   },
   {
    "duration": 237,
    "start_time": "2022-03-19T15:27:10.396Z"
   },
   {
    "duration": 7173,
    "start_time": "2022-03-19T15:27:10.635Z"
   },
   {
    "duration": 95,
    "start_time": "2022-03-19T15:27:17.886Z"
   },
   {
    "duration": 121,
    "start_time": "2022-03-19T15:27:17.983Z"
   },
   {
    "duration": 2412,
    "start_time": "2022-03-19T15:27:18.105Z"
   },
   {
    "duration": 201,
    "start_time": "2022-03-19T15:27:20.582Z"
   },
   {
    "duration": 641,
    "start_time": "2022-03-19T15:27:20.785Z"
   },
   {
    "duration": 122,
    "start_time": "2022-03-19T15:27:21.428Z"
   },
   {
    "duration": 13774,
    "start_time": "2022-03-19T15:27:21.551Z"
   },
   {
    "duration": 2434,
    "start_time": "2022-03-19T15:27:35.327Z"
   },
   {
    "duration": 22,
    "start_time": "2022-03-19T15:27:37.763Z"
   },
   {
    "duration": 203,
    "start_time": "2022-03-19T15:27:37.787Z"
   },
   {
    "duration": 168,
    "start_time": "2022-03-19T15:27:37.992Z"
   },
   {
    "duration": 632,
    "start_time": "2022-03-19T15:29:02.318Z"
   },
   {
    "duration": 583,
    "start_time": "2022-03-19T15:29:09.147Z"
   },
   {
    "duration": 2312,
    "start_time": "2022-03-19T15:30:56.237Z"
   },
   {
    "duration": 2491,
    "start_time": "2022-03-19T15:31:05.026Z"
   },
   {
    "duration": 2378,
    "start_time": "2022-03-19T15:31:32.703Z"
   },
   {
    "duration": 13,
    "start_time": "2022-03-19T15:31:41.152Z"
   },
   {
    "duration": 11,
    "start_time": "2022-03-19T15:31:42.463Z"
   },
   {
    "duration": 15,
    "start_time": "2022-03-19T15:31:53.496Z"
   },
   {
    "duration": 12,
    "start_time": "2022-03-19T15:32:04.161Z"
   },
   {
    "duration": 13,
    "start_time": "2022-03-19T15:32:14.464Z"
   },
   {
    "duration": 179,
    "start_time": "2022-03-19T15:32:54.936Z"
   },
   {
    "duration": 56,
    "start_time": "2022-03-20T14:21:05.778Z"
   },
   {
    "duration": 1788,
    "start_time": "2022-03-20T14:21:09.902Z"
   },
   {
    "duration": 42,
    "start_time": "2022-03-20T14:21:11.692Z"
   },
   {
    "duration": 14,
    "start_time": "2022-03-20T14:21:11.736Z"
   },
   {
    "duration": 5,
    "start_time": "2022-03-20T14:21:11.762Z"
   },
   {
    "duration": 9,
    "start_time": "2022-03-20T14:21:11.769Z"
   },
   {
    "duration": 12,
    "start_time": "2022-03-20T14:21:11.780Z"
   },
   {
    "duration": 18117,
    "start_time": "2022-03-20T14:21:11.794Z"
   },
   {
    "duration": 21,
    "start_time": "2022-03-20T14:21:29.914Z"
   },
   {
    "duration": 426,
    "start_time": "2022-03-20T14:21:29.937Z"
   },
   {
    "duration": 7,
    "start_time": "2022-03-20T14:21:30.365Z"
   },
   {
    "duration": 214,
    "start_time": "2022-03-20T14:21:30.374Z"
   },
   {
    "duration": 158,
    "start_time": "2022-03-20T14:21:30.590Z"
   },
   {
    "duration": 3,
    "start_time": "2022-03-20T14:21:30.750Z"
   },
   {
    "duration": 20,
    "start_time": "2022-03-20T14:21:30.755Z"
   },
   {
    "duration": 55,
    "start_time": "2022-03-20T14:21:30.777Z"
   },
   {
    "duration": 545,
    "start_time": "2022-03-20T14:21:30.834Z"
   },
   {
    "duration": 24,
    "start_time": "2022-03-20T14:21:31.381Z"
   },
   {
    "duration": 4663,
    "start_time": "2022-03-20T14:21:31.407Z"
   },
   {
    "duration": 23,
    "start_time": "2022-03-20T14:21:36.162Z"
   },
   {
    "duration": 5884,
    "start_time": "2022-03-20T14:21:36.187Z"
   },
   {
    "duration": 105,
    "start_time": "2022-03-20T14:21:42.073Z"
   },
   {
    "duration": 23,
    "start_time": "2022-03-20T14:21:42.179Z"
   },
   {
    "duration": 19,
    "start_time": "2022-03-20T14:21:42.204Z"
   },
   {
    "duration": 263,
    "start_time": "2022-03-20T14:21:42.263Z"
   },
   {
    "duration": 8138,
    "start_time": "2022-03-20T14:21:42.527Z"
   },
   {
    "duration": 6,
    "start_time": "2022-03-20T14:21:50.667Z"
   },
   {
    "duration": 243,
    "start_time": "2022-03-20T14:21:50.675Z"
   },
   {
    "duration": 2940,
    "start_time": "2022-03-20T14:21:50.922Z"
   },
   {
    "duration": 177,
    "start_time": "2022-03-20T14:21:53.865Z"
   },
   {
    "duration": 0,
    "start_time": "2022-03-20T14:21:54.043Z"
   },
   {
    "duration": 0,
    "start_time": "2022-03-20T14:21:54.044Z"
   },
   {
    "duration": 0,
    "start_time": "2022-03-20T14:21:54.046Z"
   },
   {
    "duration": 0,
    "start_time": "2022-03-20T14:21:54.063Z"
   },
   {
    "duration": 0,
    "start_time": "2022-03-20T14:21:54.064Z"
   },
   {
    "duration": 303,
    "start_time": "2022-03-20T14:22:55.165Z"
   },
   {
    "duration": 99,
    "start_time": "2022-03-20T14:23:39.094Z"
   },
   {
    "duration": 5,
    "start_time": "2022-03-20T14:23:44.030Z"
   },
   {
    "duration": 34,
    "start_time": "2022-03-20T14:23:44.037Z"
   },
   {
    "duration": 11,
    "start_time": "2022-03-20T14:23:44.072Z"
   },
   {
    "duration": 4,
    "start_time": "2022-03-20T14:23:44.085Z"
   },
   {
    "duration": 7,
    "start_time": "2022-03-20T14:23:44.090Z"
   },
   {
    "duration": 11,
    "start_time": "2022-03-20T14:23:44.099Z"
   },
   {
    "duration": 18832,
    "start_time": "2022-03-20T14:23:44.111Z"
   },
   {
    "duration": 31,
    "start_time": "2022-03-20T14:24:02.944Z"
   },
   {
    "duration": 378,
    "start_time": "2022-03-20T14:24:02.976Z"
   },
   {
    "duration": 10,
    "start_time": "2022-03-20T14:24:03.357Z"
   },
   {
    "duration": 179,
    "start_time": "2022-03-20T14:24:03.368Z"
   },
   {
    "duration": 139,
    "start_time": "2022-03-20T14:24:03.548Z"
   },
   {
    "duration": 3,
    "start_time": "2022-03-20T14:24:03.689Z"
   },
   {
    "duration": 7,
    "start_time": "2022-03-20T14:24:03.694Z"
   },
   {
    "duration": 31,
    "start_time": "2022-03-20T14:24:03.703Z"
   },
   {
    "duration": 541,
    "start_time": "2022-03-20T14:24:03.736Z"
   },
   {
    "duration": 24,
    "start_time": "2022-03-20T14:24:04.279Z"
   },
   {
    "duration": 4557,
    "start_time": "2022-03-20T14:24:04.305Z"
   },
   {
    "duration": 25,
    "start_time": "2022-03-20T14:24:08.865Z"
   },
   {
    "duration": 5775,
    "start_time": "2022-03-20T14:24:08.892Z"
   },
   {
    "duration": 198,
    "start_time": "2022-03-20T14:24:14.670Z"
   },
   {
    "duration": 2,
    "start_time": "2022-03-20T14:24:14.870Z"
   },
   {
    "duration": 6,
    "start_time": "2022-03-20T14:24:14.874Z"
   },
   {
    "duration": 766,
    "start_time": "2022-03-20T14:24:14.881Z"
   },
   {
    "duration": 9214,
    "start_time": "2022-03-20T14:24:15.649Z"
   },
   {
    "duration": 97,
    "start_time": "2022-03-20T14:24:24.866Z"
   },
   {
    "duration": 136,
    "start_time": "2022-03-20T14:24:24.965Z"
   },
   {
    "duration": 3512,
    "start_time": "2022-03-20T14:24:25.104Z"
   },
   {
    "duration": 4,
    "start_time": "2022-03-20T14:24:28.664Z"
   },
   {
    "duration": 5539,
    "start_time": "2022-03-20T14:24:28.670Z"
   },
   {
    "duration": 12113,
    "start_time": "2022-03-20T14:24:34.211Z"
   },
   {
    "duration": 2023,
    "start_time": "2022-03-20T14:24:46.326Z"
   },
   {
    "duration": 19,
    "start_time": "2022-03-20T14:24:48.351Z"
   },
   {
    "duration": 202,
    "start_time": "2022-03-20T14:24:48.372Z"
   },
   {
    "duration": 101,
    "start_time": "2022-03-20T14:24:48.576Z"
   },
   {
    "duration": 1777,
    "start_time": "2022-03-21T07:26:27.482Z"
   },
   {
    "duration": 44,
    "start_time": "2022-03-21T07:26:29.261Z"
   },
   {
    "duration": 11,
    "start_time": "2022-03-21T07:26:29.307Z"
   },
   {
    "duration": 4,
    "start_time": "2022-03-21T07:26:29.320Z"
   },
   {
    "duration": 5,
    "start_time": "2022-03-21T07:26:29.326Z"
   },
   {
    "duration": 11,
    "start_time": "2022-03-21T07:26:29.333Z"
   },
   {
    "duration": 17373,
    "start_time": "2022-03-21T07:26:29.345Z"
   },
   {
    "duration": 19,
    "start_time": "2022-03-21T07:26:46.720Z"
   },
   {
    "duration": 431,
    "start_time": "2022-03-21T07:26:46.740Z"
   },
   {
    "duration": 6,
    "start_time": "2022-03-21T07:26:47.174Z"
   },
   {
    "duration": 168,
    "start_time": "2022-03-21T07:26:47.182Z"
   },
   {
    "duration": 138,
    "start_time": "2022-03-21T07:26:47.352Z"
   },
   {
    "duration": 9,
    "start_time": "2022-03-21T07:26:47.492Z"
   },
   {
    "duration": 8,
    "start_time": "2022-03-21T07:26:47.503Z"
   },
   {
    "duration": 37,
    "start_time": "2022-03-21T07:26:47.513Z"
   },
   {
    "duration": 517,
    "start_time": "2022-03-21T07:26:47.552Z"
   },
   {
    "duration": 45,
    "start_time": "2022-03-21T07:26:48.072Z"
   },
   {
    "duration": 4293,
    "start_time": "2022-03-21T07:26:48.120Z"
   },
   {
    "duration": 189,
    "start_time": "2022-03-21T07:26:52.414Z"
   },
   {
    "duration": 5396,
    "start_time": "2022-03-21T07:26:52.604Z"
   },
   {
    "duration": 107,
    "start_time": "2022-03-21T07:26:58.004Z"
   },
   {
    "duration": 2,
    "start_time": "2022-03-21T07:26:58.113Z"
   },
   {
    "duration": 5,
    "start_time": "2022-03-21T07:26:58.117Z"
   },
   {
    "duration": 248,
    "start_time": "2022-03-21T07:26:58.124Z"
   },
   {
    "duration": 7728,
    "start_time": "2022-03-21T07:26:58.374Z"
   },
   {
    "duration": 96,
    "start_time": "2022-03-21T07:27:06.105Z"
   },
   {
    "duration": 144,
    "start_time": "2022-03-21T07:27:06.203Z"
   },
   {
    "duration": 2661,
    "start_time": "2022-03-21T07:27:06.351Z"
   },
   {
    "duration": 87,
    "start_time": "2022-03-21T07:27:09.014Z"
   },
   {
    "duration": 4543,
    "start_time": "2022-03-21T07:27:09.104Z"
   },
   {
    "duration": 11355,
    "start_time": "2022-03-21T07:27:13.648Z"
   },
   {
    "duration": 2007,
    "start_time": "2022-03-21T07:27:25.005Z"
   },
   {
    "duration": 15,
    "start_time": "2022-03-21T07:27:27.014Z"
   },
   {
    "duration": 213,
    "start_time": "2022-03-21T07:27:27.031Z"
   },
   {
    "duration": 48987,
    "start_time": "2022-03-21T07:27:49.249Z"
   },
   {
    "duration": 40175,
    "start_time": "2022-03-21T07:31:21.177Z"
   },
   {
    "duration": 17539,
    "start_time": "2022-03-21T07:32:02.824Z"
   },
   {
    "duration": 2072,
    "start_time": "2022-03-21T07:33:17.195Z"
   },
   {
    "duration": 1945,
    "start_time": "2022-03-21T07:33:35.483Z"
   },
   {
    "duration": 1636,
    "start_time": "2022-03-21T08:07:58.431Z"
   },
   {
    "duration": 1868,
    "start_time": "2022-03-21T08:08:28.534Z"
   },
   {
    "duration": 1709,
    "start_time": "2022-03-21T08:08:36.692Z"
   },
   {
    "duration": 2100,
    "start_time": "2022-03-21T08:08:48.628Z"
   },
   {
    "duration": 2934,
    "start_time": "2022-03-21T08:10:18.606Z"
   },
   {
    "duration": 740,
    "start_time": "2022-03-21T08:10:48.661Z"
   },
   {
    "duration": 1804,
    "start_time": "2022-03-21T08:11:23.261Z"
   },
   {
    "duration": 2624,
    "start_time": "2022-03-21T08:11:46.062Z"
   },
   {
    "duration": 807,
    "start_time": "2022-03-21T08:12:00.297Z"
   },
   {
    "duration": 5,
    "start_time": "2022-03-21T08:16:59.006Z"
   },
   {
    "duration": 38,
    "start_time": "2022-03-21T08:16:59.025Z"
   },
   {
    "duration": 11,
    "start_time": "2022-03-21T08:16:59.066Z"
   },
   {
    "duration": 4,
    "start_time": "2022-03-21T08:16:59.078Z"
   },
   {
    "duration": 6,
    "start_time": "2022-03-21T08:16:59.084Z"
   },
   {
    "duration": 16,
    "start_time": "2022-03-21T08:16:59.092Z"
   },
   {
    "duration": 19256,
    "start_time": "2022-03-21T08:16:59.109Z"
   },
   {
    "duration": 41,
    "start_time": "2022-03-21T08:17:18.367Z"
   },
   {
    "duration": 426,
    "start_time": "2022-03-21T08:17:18.410Z"
   },
   {
    "duration": 5,
    "start_time": "2022-03-21T08:17:18.838Z"
   },
   {
    "duration": 172,
    "start_time": "2022-03-21T08:17:18.845Z"
   },
   {
    "duration": 131,
    "start_time": "2022-03-21T08:17:19.019Z"
   },
   {
    "duration": 4,
    "start_time": "2022-03-21T08:17:19.152Z"
   },
   {
    "duration": 7,
    "start_time": "2022-03-21T08:17:19.157Z"
   },
   {
    "duration": 44,
    "start_time": "2022-03-21T08:17:19.168Z"
   },
   {
    "duration": 514,
    "start_time": "2022-03-21T08:17:19.214Z"
   },
   {
    "duration": 25,
    "start_time": "2022-03-21T08:17:19.730Z"
   },
   {
    "duration": 4269,
    "start_time": "2022-03-21T08:17:19.756Z"
   },
   {
    "duration": 106,
    "start_time": "2022-03-21T08:17:24.108Z"
   },
   {
    "duration": 5188,
    "start_time": "2022-03-21T08:17:24.216Z"
   },
   {
    "duration": 106,
    "start_time": "2022-03-21T08:17:29.406Z"
   },
   {
    "duration": 3,
    "start_time": "2022-03-21T08:17:29.515Z"
   },
   {
    "duration": 5,
    "start_time": "2022-03-21T08:17:29.519Z"
   },
   {
    "duration": 239,
    "start_time": "2022-03-21T08:17:29.526Z"
   },
   {
    "duration": 7737,
    "start_time": "2022-03-21T08:17:29.767Z"
   },
   {
    "duration": 96,
    "start_time": "2022-03-21T08:17:37.506Z"
   },
   {
    "duration": 194,
    "start_time": "2022-03-21T08:17:37.604Z"
   },
   {
    "duration": 2801,
    "start_time": "2022-03-21T08:17:37.800Z"
   },
   {
    "duration": 93,
    "start_time": "2022-03-21T08:17:40.608Z"
   },
   {
    "duration": 4443,
    "start_time": "2022-03-21T08:17:40.703Z"
   },
   {
    "duration": 17960,
    "start_time": "2022-03-21T08:17:45.147Z"
   },
   {
    "duration": 1834,
    "start_time": "2022-03-21T08:18:03.109Z"
   },
   {
    "duration": 1789,
    "start_time": "2022-03-21T08:18:04.944Z"
   },
   {
    "duration": 2782,
    "start_time": "2022-03-21T08:18:06.735Z"
   },
   {
    "duration": 758,
    "start_time": "2022-03-21T08:18:09.519Z"
   },
   {
    "duration": 23,
    "start_time": "2022-03-21T08:18:10.279Z"
   },
   {
    "duration": 186,
    "start_time": "2022-03-21T08:18:10.304Z"
   },
   {
    "duration": 181,
    "start_time": "2022-03-21T08:18:17.287Z"
   },
   {
    "duration": 1719,
    "start_time": "2022-03-21T08:18:42.736Z"
   },
   {
    "duration": 197,
    "start_time": "2022-03-21T08:18:47.973Z"
   },
   {
    "duration": 156,
    "start_time": "2022-03-21T08:19:42.249Z"
   },
   {
    "duration": 2488,
    "start_time": "2022-03-22T08:07:42.660Z"
   },
   {
    "duration": 37,
    "start_time": "2022-03-22T08:07:45.150Z"
   },
   {
    "duration": 14,
    "start_time": "2022-03-22T08:07:45.189Z"
   },
   {
    "duration": 4,
    "start_time": "2022-03-22T08:07:45.206Z"
   },
   {
    "duration": 15,
    "start_time": "2022-03-22T08:07:45.212Z"
   },
   {
    "duration": 20,
    "start_time": "2022-03-22T08:07:45.229Z"
   },
   {
    "duration": 19700,
    "start_time": "2022-03-22T08:07:45.263Z"
   },
   {
    "duration": 25,
    "start_time": "2022-03-22T08:08:04.965Z"
   },
   {
    "duration": 549,
    "start_time": "2022-03-22T08:08:04.992Z"
   },
   {
    "duration": 17,
    "start_time": "2022-03-22T08:08:05.545Z"
   },
   {
    "duration": 216,
    "start_time": "2022-03-22T08:08:05.565Z"
   },
   {
    "duration": 3,
    "start_time": "2022-03-22T08:08:05.783Z"
   },
   {
    "duration": 8,
    "start_time": "2022-03-22T08:08:05.788Z"
   },
   {
    "duration": 590,
    "start_time": "2022-03-22T08:08:21.478Z"
   },
   {
    "duration": 382,
    "start_time": "2022-03-22T08:08:54.816Z"
   },
   {
    "duration": 118,
    "start_time": "2022-03-22T08:09:00.097Z"
   },
   {
    "duration": 117,
    "start_time": "2022-03-22T08:09:09.624Z"
   },
   {
    "duration": 117,
    "start_time": "2022-03-22T08:09:45.712Z"
   },
   {
    "duration": 196,
    "start_time": "2022-03-22T08:13:26.471Z"
   },
   {
    "duration": 80,
    "start_time": "2022-03-22T08:13:27.101Z"
   },
   {
    "duration": 5,
    "start_time": "2022-03-22T08:14:39.663Z"
   },
   {
    "duration": 36,
    "start_time": "2022-03-22T08:14:39.680Z"
   },
   {
    "duration": 13,
    "start_time": "2022-03-22T08:14:39.718Z"
   },
   {
    "duration": 6,
    "start_time": "2022-03-22T08:14:39.733Z"
   },
   {
    "duration": 10,
    "start_time": "2022-03-22T08:14:39.741Z"
   },
   {
    "duration": 13,
    "start_time": "2022-03-22T08:14:39.763Z"
   },
   {
    "duration": 19202,
    "start_time": "2022-03-22T08:14:39.778Z"
   },
   {
    "duration": 19,
    "start_time": "2022-03-22T08:14:58.982Z"
   },
   {
    "duration": 431,
    "start_time": "2022-03-22T08:14:59.002Z"
   },
   {
    "duration": 8,
    "start_time": "2022-03-22T08:14:59.435Z"
   },
   {
    "duration": 194,
    "start_time": "2022-03-22T08:14:59.444Z"
   },
   {
    "duration": 3,
    "start_time": "2022-03-22T08:14:59.640Z"
   },
   {
    "duration": 4,
    "start_time": "2022-03-22T08:14:59.645Z"
   },
   {
    "duration": 142,
    "start_time": "2022-03-22T08:14:59.650Z"
   },
   {
    "duration": 131,
    "start_time": "2022-03-22T08:14:59.796Z"
   },
   {
    "duration": 59,
    "start_time": "2022-03-22T08:14:59.928Z"
   },
   {
    "duration": 3,
    "start_time": "2022-03-22T08:14:59.990Z"
   },
   {
    "duration": 32,
    "start_time": "2022-03-22T08:14:59.995Z"
   },
   {
    "duration": 534,
    "start_time": "2022-03-22T08:15:00.029Z"
   },
   {
    "duration": 26,
    "start_time": "2022-03-22T08:15:00.564Z"
   },
   {
    "duration": 4779,
    "start_time": "2022-03-22T08:15:00.592Z"
   },
   {
    "duration": 194,
    "start_time": "2022-03-22T08:15:05.373Z"
   },
   {
    "duration": 6192,
    "start_time": "2022-03-22T08:15:05.570Z"
   },
   {
    "duration": 107,
    "start_time": "2022-03-22T08:15:11.765Z"
   },
   {
    "duration": 6,
    "start_time": "2022-03-22T08:15:11.874Z"
   },
   {
    "duration": 27,
    "start_time": "2022-03-22T08:15:11.881Z"
   },
   {
    "duration": 269,
    "start_time": "2022-03-22T08:15:11.909Z"
   },
   {
    "duration": 7983,
    "start_time": "2022-03-22T08:15:12.180Z"
   },
   {
    "duration": 6,
    "start_time": "2022-03-22T08:15:20.166Z"
   },
   {
    "duration": 168,
    "start_time": "2022-03-22T08:15:20.264Z"
   },
   {
    "duration": 2950,
    "start_time": "2022-03-22T08:15:20.434Z"
   },
   {
    "duration": 78,
    "start_time": "2022-03-22T08:15:23.386Z"
   },
   {
    "duration": 5245,
    "start_time": "2022-03-22T08:15:23.467Z"
   },
   {
    "duration": 20331,
    "start_time": "2022-03-22T08:15:28.713Z"
   },
   {
    "duration": 2009,
    "start_time": "2022-03-22T08:15:49.046Z"
   },
   {
    "duration": 1875,
    "start_time": "2022-03-22T08:15:51.063Z"
   },
   {
    "duration": 2942,
    "start_time": "2022-03-22T08:15:52.939Z"
   },
   {
    "duration": 831,
    "start_time": "2022-03-22T08:15:55.883Z"
   },
   {
    "duration": 16,
    "start_time": "2022-03-22T08:15:56.716Z"
   },
   {
    "duration": 199,
    "start_time": "2022-03-22T08:15:56.733Z"
   },
   {
    "duration": 22,
    "start_time": "2022-03-22T08:17:46.957Z"
   },
   {
    "duration": 4,
    "start_time": "2022-03-22T08:18:44.732Z"
   },
   {
    "duration": 36,
    "start_time": "2022-03-22T08:18:44.749Z"
   },
   {
    "duration": 14,
    "start_time": "2022-03-22T08:18:44.786Z"
   },
   {
    "duration": 6,
    "start_time": "2022-03-22T08:18:44.802Z"
   },
   {
    "duration": 11,
    "start_time": "2022-03-22T08:18:44.809Z"
   },
   {
    "duration": 12,
    "start_time": "2022-03-22T08:18:44.822Z"
   },
   {
    "duration": 20014,
    "start_time": "2022-03-22T08:18:44.835Z"
   },
   {
    "duration": 26,
    "start_time": "2022-03-22T08:19:04.852Z"
   },
   {
    "duration": 460,
    "start_time": "2022-03-22T08:19:04.880Z"
   },
   {
    "duration": 6,
    "start_time": "2022-03-22T08:19:05.341Z"
   },
   {
    "duration": 30,
    "start_time": "2022-03-22T08:19:05.348Z"
   },
   {
    "duration": 5,
    "start_time": "2022-03-22T08:19:05.379Z"
   },
   {
    "duration": 14,
    "start_time": "2022-03-22T08:19:05.385Z"
   },
   {
    "duration": 2,
    "start_time": "2022-03-22T08:19:05.403Z"
   },
   {
    "duration": 5,
    "start_time": "2022-03-22T08:19:05.407Z"
   },
   {
    "duration": 16,
    "start_time": "2022-03-22T08:19:05.413Z"
   },
   {
    "duration": 447,
    "start_time": "2022-03-22T08:19:05.430Z"
   },
   {
    "duration": 8,
    "start_time": "2022-03-22T08:19:05.879Z"
   },
   {
    "duration": 49,
    "start_time": "2022-03-22T08:19:05.888Z"
   },
   {
    "duration": 38,
    "start_time": "2022-03-22T08:19:05.938Z"
   },
   {
    "duration": 26,
    "start_time": "2022-03-22T08:19:05.978Z"
   },
   {
    "duration": 21,
    "start_time": "2022-03-22T08:19:06.006Z"
   },
   {
    "duration": 52,
    "start_time": "2022-03-22T08:19:06.029Z"
   },
   {
    "duration": 126,
    "start_time": "2022-03-22T08:19:06.164Z"
   },
   {
    "duration": 28,
    "start_time": "2022-03-22T08:19:06.292Z"
   },
   {
    "duration": 148,
    "start_time": "2022-03-22T08:19:06.322Z"
   },
   {
    "duration": 13,
    "start_time": "2022-03-22T08:19:06.472Z"
   },
   {
    "duration": 21,
    "start_time": "2022-03-22T08:19:06.487Z"
   },
   {
    "duration": 21,
    "start_time": "2022-03-22T08:19:06.510Z"
   },
   {
    "duration": 36,
    "start_time": "2022-03-22T08:19:06.533Z"
   },
   {
    "duration": 93,
    "start_time": "2022-03-22T08:19:06.571Z"
   },
   {
    "duration": 111,
    "start_time": "2022-03-22T08:19:06.666Z"
   },
   {
    "duration": 29,
    "start_time": "2022-03-22T08:19:06.778Z"
   },
   {
    "duration": 9,
    "start_time": "2022-03-22T08:19:06.862Z"
   },
   {
    "duration": 336,
    "start_time": "2022-03-22T08:19:06.872Z"
   },
   {
    "duration": 9524,
    "start_time": "2022-03-22T08:19:07.210Z"
   },
   {
    "duration": 1139,
    "start_time": "2022-03-22T08:19:16.738Z"
   },
   {
    "duration": 971,
    "start_time": "2022-03-22T08:19:17.879Z"
   },
   {
    "duration": 1377,
    "start_time": "2022-03-22T08:19:18.852Z"
   },
   {
    "duration": 551,
    "start_time": "2022-03-22T08:19:20.230Z"
   },
   {
    "duration": 16,
    "start_time": "2022-03-22T08:19:20.782Z"
   },
   {
    "duration": 194,
    "start_time": "2022-03-22T08:19:20.799Z"
   },
   {
    "duration": 1145,
    "start_time": "2022-03-22T08:19:55.661Z"
   },
   {
    "duration": 1042,
    "start_time": "2022-03-22T08:20:06.993Z"
   },
   {
    "duration": 1545,
    "start_time": "2022-03-22T08:20:08.037Z"
   },
   {
    "duration": 614,
    "start_time": "2022-03-22T08:20:09.584Z"
   },
   {
    "duration": 1538,
    "start_time": "2022-04-03T09:10:20.448Z"
   },
   {
    "duration": 43,
    "start_time": "2022-04-03T09:10:21.989Z"
   },
   {
    "duration": 14,
    "start_time": "2022-04-03T09:10:22.034Z"
   },
   {
    "duration": 5,
    "start_time": "2022-04-03T09:10:22.050Z"
   },
   {
    "duration": 8,
    "start_time": "2022-04-03T09:10:22.056Z"
   },
   {
    "duration": 11,
    "start_time": "2022-04-03T09:10:22.066Z"
   },
   {
    "duration": 16240,
    "start_time": "2022-04-03T09:10:22.078Z"
   },
   {
    "duration": 17,
    "start_time": "2022-04-03T09:10:38.320Z"
   },
   {
    "duration": 386,
    "start_time": "2022-04-03T09:10:38.339Z"
   },
   {
    "duration": 6,
    "start_time": "2022-04-03T09:10:38.732Z"
   },
   {
    "duration": 22,
    "start_time": "2022-04-03T09:10:38.739Z"
   },
   {
    "duration": 7,
    "start_time": "2022-04-03T09:10:38.763Z"
   },
   {
    "duration": 12,
    "start_time": "2022-04-03T09:10:38.771Z"
   },
   {
    "duration": 3,
    "start_time": "2022-04-03T09:10:38.784Z"
   },
   {
    "duration": 5,
    "start_time": "2022-04-03T09:10:38.789Z"
   },
   {
    "duration": 10,
    "start_time": "2022-04-03T09:10:38.795Z"
   },
   {
    "duration": 9,
    "start_time": "2022-04-03T09:10:38.834Z"
   },
   {
    "duration": 9,
    "start_time": "2022-04-03T09:10:38.844Z"
   },
   {
    "duration": 5,
    "start_time": "2022-04-03T09:10:38.855Z"
   },
   {
    "duration": 7,
    "start_time": "2022-04-03T09:10:38.861Z"
   },
   {
    "duration": 13,
    "start_time": "2022-04-03T09:10:38.870Z"
   },
   {
    "duration": 15,
    "start_time": "2022-04-03T09:10:46.118Z"
   },
   {
    "duration": 6,
    "start_time": "2022-04-03T09:10:58.749Z"
   },
   {
    "duration": 23,
    "start_time": "2022-04-03T09:11:15.644Z"
   },
   {
    "duration": 6,
    "start_time": "2022-04-03T09:12:20.336Z"
   },
   {
    "duration": 3217,
    "start_time": "2022-04-04T11:52:41.306Z"
   },
   {
    "duration": 53,
    "start_time": "2022-04-04T11:52:44.526Z"
   },
   {
    "duration": 22,
    "start_time": "2022-04-04T11:52:44.582Z"
   },
   {
    "duration": 8,
    "start_time": "2022-04-04T11:52:44.607Z"
   },
   {
    "duration": 21,
    "start_time": "2022-04-04T11:52:44.618Z"
   },
   {
    "duration": 26,
    "start_time": "2022-04-04T11:52:44.667Z"
   },
   {
    "duration": 6,
    "start_time": "2022-04-04T11:52:44.695Z"
   },
   {
    "duration": 29,
    "start_time": "2022-04-04T11:52:44.703Z"
   },
   {
    "duration": 32,
    "start_time": "2022-04-04T11:52:44.736Z"
   },
   {
    "duration": 27,
    "start_time": "2022-04-04T11:52:44.773Z"
   },
   {
    "duration": 32,
    "start_time": "2022-04-04T11:52:44.802Z"
   },
   {
    "duration": 6,
    "start_time": "2022-04-04T11:52:44.837Z"
   },
   {
    "duration": 38,
    "start_time": "2022-04-04T11:52:44.844Z"
   },
   {
    "duration": 6,
    "start_time": "2022-04-04T11:52:44.885Z"
   },
   {
    "duration": 6,
    "start_time": "2022-04-04T11:52:44.893Z"
   },
   {
    "duration": 13,
    "start_time": "2022-04-04T11:52:44.901Z"
   },
   {
    "duration": 16,
    "start_time": "2022-04-04T11:52:44.916Z"
   },
   {
    "duration": 51,
    "start_time": "2022-04-04T11:52:44.934Z"
   },
   {
    "duration": 10,
    "start_time": "2022-04-04T11:52:44.988Z"
   },
   {
    "duration": 14,
    "start_time": "2022-04-04T11:52:45.001Z"
   },
   {
    "duration": 63,
    "start_time": "2022-04-04T11:52:45.018Z"
   },
   {
    "duration": 166,
    "start_time": "2022-04-04T11:52:45.083Z"
   },
   {
    "duration": 0,
    "start_time": "2022-04-04T11:52:45.253Z"
   },
   {
    "duration": 0,
    "start_time": "2022-04-04T11:52:45.256Z"
   },
   {
    "duration": 0,
    "start_time": "2022-04-04T11:52:45.258Z"
   },
   {
    "duration": 0,
    "start_time": "2022-04-04T11:52:45.260Z"
   },
   {
    "duration": 0,
    "start_time": "2022-04-04T11:52:45.263Z"
   },
   {
    "duration": 0,
    "start_time": "2022-04-04T11:52:45.265Z"
   },
   {
    "duration": 0,
    "start_time": "2022-04-04T11:52:45.271Z"
   },
   {
    "duration": 0,
    "start_time": "2022-04-04T11:52:45.273Z"
   },
   {
    "duration": 0,
    "start_time": "2022-04-04T11:52:45.275Z"
   },
   {
    "duration": 0,
    "start_time": "2022-04-04T11:52:45.277Z"
   },
   {
    "duration": 0,
    "start_time": "2022-04-04T11:52:45.278Z"
   },
   {
    "duration": 0,
    "start_time": "2022-04-04T11:52:45.279Z"
   },
   {
    "duration": 0,
    "start_time": "2022-04-04T11:52:45.281Z"
   },
   {
    "duration": 0,
    "start_time": "2022-04-04T11:52:45.283Z"
   },
   {
    "duration": 0,
    "start_time": "2022-04-04T11:52:45.285Z"
   },
   {
    "duration": 0,
    "start_time": "2022-04-04T11:52:45.287Z"
   },
   {
    "duration": 0,
    "start_time": "2022-04-04T11:52:45.290Z"
   },
   {
    "duration": 0,
    "start_time": "2022-04-04T11:52:45.293Z"
   },
   {
    "duration": 0,
    "start_time": "2022-04-04T11:52:45.295Z"
   },
   {
    "duration": 0,
    "start_time": "2022-04-04T11:52:45.298Z"
   },
   {
    "duration": 1,
    "start_time": "2022-04-04T11:52:45.300Z"
   },
   {
    "duration": 6,
    "start_time": "2022-04-04T11:53:01.219Z"
   },
   {
    "duration": 55,
    "start_time": "2022-04-04T11:53:01.234Z"
   },
   {
    "duration": 21,
    "start_time": "2022-04-04T11:53:01.292Z"
   },
   {
    "duration": 27,
    "start_time": "2022-04-04T11:53:01.317Z"
   },
   {
    "duration": 24,
    "start_time": "2022-04-04T11:53:01.347Z"
   },
   {
    "duration": 49,
    "start_time": "2022-04-04T11:53:01.375Z"
   },
   {
    "duration": 9,
    "start_time": "2022-04-04T11:53:01.426Z"
   },
   {
    "duration": 44,
    "start_time": "2022-04-04T11:53:01.438Z"
   },
   {
    "duration": 12,
    "start_time": "2022-04-04T11:53:01.485Z"
   },
   {
    "duration": 38,
    "start_time": "2022-04-04T11:53:01.499Z"
   },
   {
    "duration": 45,
    "start_time": "2022-04-04T11:53:01.540Z"
   },
   {
    "duration": 9,
    "start_time": "2022-04-04T11:53:01.589Z"
   },
   {
    "duration": 18,
    "start_time": "2022-04-04T11:53:01.600Z"
   },
   {
    "duration": 7,
    "start_time": "2022-04-04T11:53:01.621Z"
   },
   {
    "duration": 6,
    "start_time": "2022-04-04T11:53:01.633Z"
   },
   {
    "duration": 30,
    "start_time": "2022-04-04T11:53:01.641Z"
   },
   {
    "duration": 15,
    "start_time": "2022-04-04T11:53:01.674Z"
   },
   {
    "duration": 20,
    "start_time": "2022-04-04T11:53:01.692Z"
   },
   {
    "duration": 17,
    "start_time": "2022-04-04T11:53:01.714Z"
   },
   {
    "duration": 44,
    "start_time": "2022-04-04T11:53:01.733Z"
   },
   {
    "duration": 28,
    "start_time": "2022-04-04T11:53:01.782Z"
   },
   {
    "duration": 22,
    "start_time": "2022-04-04T11:53:01.813Z"
   },
   {
    "duration": 50,
    "start_time": "2022-04-04T11:53:01.837Z"
   },
   {
    "duration": 199,
    "start_time": "2022-04-04T11:53:01.889Z"
   },
   {
    "duration": 84,
    "start_time": "2022-04-04T11:53:02.091Z"
   },
   {
    "duration": 112,
    "start_time": "2022-04-04T11:53:02.177Z"
   },
   {
    "duration": 16,
    "start_time": "2022-04-04T11:53:02.293Z"
   },
   {
    "duration": 7,
    "start_time": "2022-04-04T11:53:02.311Z"
   },
   {
    "duration": 14,
    "start_time": "2022-04-04T11:53:02.320Z"
   },
   {
    "duration": 130,
    "start_time": "2022-04-04T11:53:02.336Z"
   },
   {
    "duration": 101,
    "start_time": "2022-04-04T11:53:02.469Z"
   },
   {
    "duration": 42,
    "start_time": "2022-04-04T11:53:02.573Z"
   },
   {
    "duration": 54,
    "start_time": "2022-04-04T11:53:02.618Z"
   },
   {
    "duration": 10,
    "start_time": "2022-04-04T11:53:02.675Z"
   },
   {
    "duration": 358,
    "start_time": "2022-04-04T11:53:02.691Z"
   },
   {
    "duration": 15353,
    "start_time": "2022-04-04T11:53:03.051Z"
   },
   {
    "duration": 1841,
    "start_time": "2022-04-04T11:53:18.406Z"
   },
   {
    "duration": 1658,
    "start_time": "2022-04-04T11:53:20.249Z"
   },
   {
    "duration": 2444,
    "start_time": "2022-04-04T11:53:21.909Z"
   },
   {
    "duration": 913,
    "start_time": "2022-04-04T11:53:24.356Z"
   },
   {
    "duration": 29,
    "start_time": "2022-04-04T11:53:25.272Z"
   },
   {
    "duration": 340,
    "start_time": "2022-04-04T11:53:25.306Z"
   },
   {
    "duration": 35,
    "start_time": "2022-04-04T11:54:42.459Z"
   },
   {
    "duration": 9,
    "start_time": "2022-04-04T11:54:49.063Z"
   },
   {
    "duration": 5,
    "start_time": "2022-04-04T11:54:52.654Z"
   },
   {
    "duration": 951,
    "start_time": "2022-04-04T11:54:57.501Z"
   },
   {
    "duration": 7,
    "start_time": "2022-04-04T12:58:19.679Z"
   },
   {
    "duration": 6,
    "start_time": "2022-04-04T12:58:27.037Z"
   },
   {
    "duration": 7,
    "start_time": "2022-04-04T13:22:48.578Z"
   },
   {
    "duration": 7,
    "start_time": "2022-04-04T13:22:51.737Z"
   },
   {
    "duration": 6,
    "start_time": "2022-04-04T13:22:57.944Z"
   },
   {
    "duration": 2642,
    "start_time": "2022-04-25T08:15:30.812Z"
   },
   {
    "duration": 54,
    "start_time": "2022-04-25T08:15:33.458Z"
   },
   {
    "duration": 38,
    "start_time": "2022-04-25T08:15:33.514Z"
   },
   {
    "duration": 21,
    "start_time": "2022-04-25T08:15:33.555Z"
   },
   {
    "duration": 8,
    "start_time": "2022-04-25T08:15:38.331Z"
   },
   {
    "duration": 23,
    "start_time": "2022-04-25T08:15:39.043Z"
   },
   {
    "duration": 3,
    "start_time": "2022-04-25T08:15:40.995Z"
   },
   {
    "duration": 27,
    "start_time": "2022-04-25T08:15:41.827Z"
   },
   {
    "duration": 4,
    "start_time": "2022-04-25T08:15:42.069Z"
   },
   {
    "duration": 19,
    "start_time": "2022-04-25T08:15:44.068Z"
   },
   {
    "duration": 31,
    "start_time": "2022-04-25T08:15:44.788Z"
   },
   {
    "duration": 5,
    "start_time": "2022-04-25T08:15:45.075Z"
   },
   {
    "duration": 14,
    "start_time": "2022-04-25T08:15:45.427Z"
   },
   {
    "duration": 4,
    "start_time": "2022-04-25T08:15:45.969Z"
   },
   {
    "duration": 4,
    "start_time": "2022-04-25T08:15:46.410Z"
   },
   {
    "duration": 10,
    "start_time": "2022-04-25T08:15:46.587Z"
   },
   {
    "duration": 17,
    "start_time": "2022-04-25T08:15:47.139Z"
   },
   {
    "duration": 12,
    "start_time": "2022-04-25T08:15:47.297Z"
   },
   {
    "duration": 8,
    "start_time": "2022-04-25T08:15:47.923Z"
   },
   {
    "duration": 9,
    "start_time": "2022-04-25T08:15:48.410Z"
   },
   {
    "duration": 19,
    "start_time": "2022-04-25T08:15:48.594Z"
   },
   {
    "duration": 22,
    "start_time": "2022-04-25T08:15:49.283Z"
   },
   {
    "duration": 111,
    "start_time": "2022-04-25T08:15:51.843Z"
   },
   {
    "duration": 31,
    "start_time": "2022-04-25T08:16:20.334Z"
   },
   {
    "duration": 8,
    "start_time": "2022-04-25T08:16:37.901Z"
   },
   {
    "duration": 8,
    "start_time": "2022-04-25T08:16:52.014Z"
   },
   {
    "duration": 214,
    "start_time": "2022-04-25T08:17:51.896Z"
   },
   {
    "duration": 23,
    "start_time": "2022-04-25T08:17:57.164Z"
   },
   {
    "duration": 6,
    "start_time": "2022-04-25T08:18:34.192Z"
   },
   {
    "duration": 49,
    "start_time": "2022-04-25T08:18:34.536Z"
   },
   {
    "duration": 16,
    "start_time": "2022-04-25T08:18:34.697Z"
   },
   {
    "duration": 9,
    "start_time": "2022-04-25T08:18:34.962Z"
   },
   {
    "duration": 12,
    "start_time": "2022-04-25T08:18:37.363Z"
   },
   {
    "duration": 7,
    "start_time": "2022-04-25T08:18:44.641Z"
   },
   {
    "duration": 28,
    "start_time": "2022-04-25T08:18:48.575Z"
   },
   {
    "duration": 14,
    "start_time": "2022-04-25T08:19:07.507Z"
   },
   {
    "duration": 36,
    "start_time": "2022-04-25T08:19:08.635Z"
   }
  ],
  "kernelspec": {
   "display_name": "Python 3 (ipykernel)",
   "language": "python",
   "name": "python3"
  },
  "language_info": {
   "codemirror_mode": {
    "name": "ipython",
    "version": 3
   },
   "file_extension": ".py",
   "mimetype": "text/x-python",
   "name": "python",
   "nbconvert_exporter": "python",
   "pygments_lexer": "ipython3",
   "version": "3.9.0"
  },
  "toc": {
   "base_numbering": 1,
   "nav_menu": {},
   "number_sections": true,
   "sideBar": true,
   "skip_h1_title": true,
   "title_cell": "Содержание",
   "title_sidebar": "Contents",
   "toc_cell": true,
   "toc_position": {},
   "toc_section_display": true,
   "toc_window_display": false
  }
 },
 "nbformat": 4,
 "nbformat_minor": 2
}
